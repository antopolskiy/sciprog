{
 "cells": [
  {
   "cell_type": "code",
   "execution_count": 1,
   "metadata": {
    "collapsed": true
   },
   "outputs": [],
   "source": [
    "import numpy as np\n",
    "import pandas as pd\n",
    "from scipy import stats\n",
    "import matplotlib.pyplot as plt\n",
    "import sklearn as sk\n",
    "import scipy.stats.stats as st\n",
    "%matplotlib inline\n",
    "import random"
   ]
  },
  {
   "cell_type": "markdown",
   "metadata": {},
   "source": [
    "When we have a sample and we know from what distribution it was drawn, we can know what the standard error of our estimate is."
   ]
  },
  {
   "cell_type": "code",
   "execution_count": 106,
   "metadata": {
    "collapsed": false
   },
   "outputs": [
    {
     "name": "stdout",
     "output_type": "stream",
     "text": [
      "Estimation: 0.448484459912 0.319027689633 0.199382908287 0.141600176486 \n",
      "\n",
      "Theoretical: 0.4472135955 0.316227766017 0.2 0.141421356237\n"
     ]
    },
    {
     "data": {
      "image/png": "[encoded data removed]",
      "text/plain": [
       "<matplotlib.figure.Figure at 0x7f297e1b5748>"
      ]
     },
     "metadata": {},
     "output_type": "display_data"
    }
   ],
   "source": [
    "#compute the means of 10000 samples of a normal distribution\n",
    "x=np.random.normal(0,1,size=[5,10000])\n",
    "y=np.random.normal(0,1,size=[10,10000])\n",
    "z=np.random.normal(0,1,size=[25,10000])\n",
    "t=np.random.normal(0,1,size=[50,10000])\n",
    "\n",
    "print('Estimation:',\n",
    "      np.std(np.mean(x,axis=0)),\n",
    "      np.std(np.mean(y,axis=0)),\n",
    "      np.std(np.mean(z,axis=0)),\n",
    "      np.std(np.mean(t,axis=0)),'\\n')\n",
    "\n",
    "print('Theoretical:',\n",
    "      1/np.sqrt(5),\n",
    "      1/np.sqrt(10),\n",
    "      1/np.sqrt(25),\n",
    "      1/np.sqrt(50))\n",
    "\n",
    "plt.subplot(221)\n",
    "plt.hist(np.mean(x,axis=0),20);\n",
    "plt.subplot(222)\n",
    "plt.hist(np.mean(y,axis=0),20);\n",
    "plt.subplot(223)\n",
    "plt.hist(np.mean(z,axis=0),20);\n",
    "plt.subplot(224)\n",
    "plt.hist(np.mean(t,axis=0),20);"
   ]
  },
  {
   "cell_type": "code",
   "execution_count": 107,
   "metadata": {
    "collapsed": false
   },
   "outputs": [
    {
     "name": "stdout",
     "output_type": "stream",
     "text": [
      "9.97390502803\n"
     ]
    },
    {
     "data": {
      "image/png": "[encoded data removed]",
      "text/plain": [
       "<matplotlib.figure.Figure at 0x7f297dbbc390>"
      ]
     },
     "metadata": {},
     "output_type": "display_data"
    }
   ],
   "source": [
    "#the gamma distribution\n",
    "plt.hist(np.random.gamma(1,10,size=10000),20);\n",
    "s=np.std(np.random.gamma(1,10,size=10000))\n",
    "print(s)"
   ]
  },
  {
   "cell_type": "code",
   "execution_count": 108,
   "metadata": {
    "collapsed": false
   },
   "outputs": [
    {
     "name": "stdout",
     "output_type": "stream",
     "text": [
      "Estimation: 4.47719206203 3.12712409562 2.01568215339 1.41984267289 \n",
      "\n",
      "Theoretical: 4.46046592876 3.15402570548 1.99478100561 1.41052317605\n"
     ]
    },
    {
     "data": {
      "image/png": "[encoded data removed]",
      "text/plain": [
       "<matplotlib.figure.Figure at 0x7f297e263ef0>"
      ]
     },
     "metadata": {},
     "output_type": "display_data"
    }
   ],
   "source": [
    "#compute the means of 1000 samples of a gamma distribution of size 10\n",
    "x=np.random.gamma(1,10,size=[5,10000])\n",
    "y=np.random.gamma(1,10,size=[10,10000])\n",
    "z=np.random.gamma(1,10,size=[25,10000])\n",
    "t=np.random.gamma(1,10,size=[50,10000])\n",
    "\n",
    "print('Estimation:',\n",
    "      np.std(np.mean(x,axis=0)),\n",
    "      np.std(np.mean(y,axis=0)),\n",
    "      np.std(np.mean(z,axis=0)),\n",
    "      np.std(np.mean(t,axis=0)),'\\n')\n",
    "\n",
    "print('Theoretical:',\n",
    "      s/np.sqrt(5),\n",
    "      s/np.sqrt(10),\n",
    "      s/np.sqrt(25),\n",
    "      s/np.sqrt(50))\n",
    "\n",
    "plt.subplot(221)\n",
    "plt.hist(np.mean(x,axis=0),20);\n",
    "plt.subplot(222)\n",
    "plt.hist(np.mean(y,axis=0),20);\n",
    "plt.subplot(223)\n",
    "plt.hist(np.mean(z,axis=0),20);\n",
    "plt.subplot(224)\n",
    "plt.hist(np.mean(t,axis=0),20);"
   ]
  },
  {
   "cell_type": "markdown",
   "metadata": {},
   "source": [
    "This is the central limit theorem!!!\n",
    "\n",
    "In conclusion, if a sample satisfied at least one of the following:\n",
    "\n",
    ">The distribution of the random variable, X, is Normal. The sample size is large; rule of thumb is n > 30\n",
    "\n",
    "then the sampling distribution of mean(X) is approximately Normal with\n",
    "\n",
    "    Mean: μ\n",
    "    Standard error: s/√n\n"
   ]
  },
  {
   "cell_type": "markdown",
   "metadata": {},
   "source": [
    "What happens when we do not know the underlying distribution and cannot resample from the distribution? How could we estimate certain sample statistics?"
   ]
  },
  {
   "cell_type": "code",
   "execution_count": 4,
   "metadata": {
    "collapsed": false
   },
   "outputs": [
    {
     "data": {
      "text/plain": [
       "0    1046.490416\n",
       "1    1453.555458\n",
       "2    2511.469648\n",
       "3    1735.720276\n",
       "4     709.651811\n",
       "5    3498.284266\n",
       "6     780.412187\n",
       "7    1639.779662\n",
       "8    2681.655830\n",
       "9    1086.323184\n",
       "dtype: float64"
      ]
     },
     "execution_count": 4,
     "metadata": {},
     "output_type": "execute_result"
    }
   ],
   "source": [
    "# this is a secret!\n",
    "n = 10\n",
    "x = pd.Series(np.random.gamma(2,8,size=n))*100\n",
    "x"
   ]
  },
  {
   "cell_type": "code",
   "execution_count": 5,
   "metadata": {
    "collapsed": false
   },
   "outputs": [
    {
     "name": "stdout",
     "output_type": "stream",
     "text": [
      "1714.33427387\n"
     ]
    }
   ],
   "source": [
    "print(np.mean(x))"
   ]
  },
  {
   "cell_type": "markdown",
   "metadata": {},
   "source": [
    "But what about the standard deviation? the confidence interval?"
   ]
  },
  {
   "cell_type": "code",
   "execution_count": 6,
   "metadata": {
    "collapsed": false
   },
   "outputs": [
    {
     "data": {
      "text/plain": [
       "274.7661801476608"
      ]
     },
     "execution_count": 6,
     "metadata": {},
     "output_type": "execute_result"
    }
   ],
   "source": [
    "np.std(x)/np.sqrt(len(x))"
   ]
  },
  {
   "cell_type": "code",
   "execution_count": 9,
   "metadata": {
    "collapsed": false
   },
   "outputs": [
    {
     "data": {
      "text/plain": [
       "0    1046.490416\n",
       "1    1453.555458\n",
       "2    2511.469648\n",
       "3    1735.720276\n",
       "4     709.651811\n",
       "5    3498.284266\n",
       "6     780.412187\n",
       "7    1639.779662\n",
       "8    2681.655830\n",
       "9    1086.323184\n",
       "dtype: float64"
      ]
     },
     "execution_count": 9,
     "metadata": {},
     "output_type": "execute_result"
    }
   ],
   "source": [
    "x"
   ]
  },
  {
   "cell_type": "code",
   "execution_count": 7,
   "metadata": {
    "collapsed": true
   },
   "outputs": [],
   "source": [
    "resample=np.random.randint(n,size=(n,10000))\n",
    "x_resamples = x.values[resample]\n",
    "x_boot = np.mean(x_resamples,axis=0)"
   ]
  },
  {
   "cell_type": "code",
   "execution_count": 11,
   "metadata": {
    "collapsed": false
   },
   "outputs": [
    {
     "data": {
      "text/plain": [
       "array([ 1086.32318423,  3498.28426616,  1735.72027588,  2681.65582977,\n",
       "         709.65181133,  1639.77966183,  1046.49041626,  1453.55545819,\n",
       "        1735.72027588,  2511.46964786])"
      ]
     },
     "execution_count": 11,
     "metadata": {},
     "output_type": "execute_result"
    }
   ],
   "source": [
    "x_resamples[:,0]"
   ]
  },
  {
   "cell_type": "code",
   "execution_count": 12,
   "metadata": {
    "collapsed": false
   },
   "outputs": [
    {
     "data": {
      "text/plain": [
       "1714.334273872623"
      ]
     },
     "execution_count": 12,
     "metadata": {},
     "output_type": "execute_result"
    }
   ],
   "source": [
    "np.mean(x)"
   ]
  },
  {
   "cell_type": "code",
   "execution_count": 13,
   "metadata": {
    "collapsed": false
   },
   "outputs": [
    {
     "data": {
      "text/plain": [
       "274.7661801476608"
      ]
     },
     "execution_count": 13,
     "metadata": {},
     "output_type": "execute_result"
    }
   ],
   "source": [
    "np.std(x)/np.sqrt(10)"
   ]
  },
  {
   "cell_type": "code",
   "execution_count": 8,
   "metadata": {
    "collapsed": false
   },
   "outputs": [
    {
     "name": "stdout",
     "output_type": "stream",
     "text": [
      "mean(x_boot) = 1720.92094966\n",
      "std(x_boot) = 275.841258253\n"
     ]
    },
    {
     "data": {
      "image/png": "[encoded data removed]",
      "text/plain": [
       "<matplotlib.figure.Figure at 0x2c2001c5358>"
      ]
     },
     "metadata": {},
     "output_type": "display_data"
    }
   ],
   "source": [
    "plt.hist(x_boot,20);\n",
    "print('mean(x_boot) = ' + str(np.mean(x_boot)))\n",
    "print('std(x_boot) = ' + str(np.std(x_boot)))"
   ]
  },
  {
   "cell_type": "markdown",
   "metadata": {},
   "source": [
    "But we can also do it for the median!"
   ]
  },
  {
   "cell_type": "code",
   "execution_count": 114,
   "metadata": {
    "collapsed": false
   },
   "outputs": [
    {
     "name": "stdout",
     "output_type": "stream",
     "text": [
      "13.7465112249\n"
     ]
    }
   ],
   "source": [
    "print(np.median(x))"
   ]
  },
  {
   "cell_type": "markdown",
   "metadata": {},
   "source": [
    "Note that if we know the distribution, we can just sample it many times."
   ]
  },
  {
   "cell_type": "code",
   "execution_count": 14,
   "metadata": {
    "collapsed": false
   },
   "outputs": [
    {
     "name": "stdout",
     "output_type": "stream",
     "text": [
      "mean(x_samples) = 13.4252719145\n",
      "std(x_samples) = 1.29512881819\n"
     ]
    },
    {
     "data": {
      "image/png": "[encoded data removed]",
      "text/plain": [
       "<matplotlib.figure.Figure at 0x2c200292438>"
      ]
     },
     "metadata": {},
     "output_type": "display_data"
    }
   ],
   "source": [
    "n = 100\n",
    "x = np.random.gamma(2,8,size=(n,1000))\n",
    "x_sample = np.median(x,axis=0)\n",
    "plt.hist(x_sample,20);\n",
    "print('mean(x_samples) = ' + str(np.mean(x_sample)))\n",
    "print('std(x_samples) = ' + str(np.std(x_sample)))"
   ]
  },
  {
   "cell_type": "markdown",
   "metadata": {},
   "source": [
    "But here we bootstrap it because we assume we don't know the distribution."
   ]
  },
  {
   "cell_type": "code",
   "execution_count": 16,
   "metadata": {
    "collapsed": false
   },
   "outputs": [
    {
     "data": {
      "text/plain": [
       "100"
      ]
     },
     "execution_count": 16,
     "metadata": {},
     "output_type": "execute_result"
    }
   ],
   "source": [
    "n"
   ]
  },
  {
   "cell_type": "code",
   "execution_count": 23,
   "metadata": {
    "collapsed": false
   },
   "outputs": [
    {
     "data": {
      "text/plain": [
       "array([  7.48132551,   5.20592033,  10.50842925,   7.47430253,\n",
       "        15.3665067 ,   8.76505995,  16.99107317,   8.1815506 ,\n",
       "         5.38430878,  15.2721574 ,  36.89469336,  32.3861052 ,\n",
       "         6.49348252,  10.55089359,  10.41797316,  10.18287325,\n",
       "         9.82514005,  34.53940363,   4.05596483,  14.73187637,\n",
       "        27.1434593 ,  16.99571706,  11.94751004,   2.69515113,\n",
       "        10.62011296,  20.97813617,   6.11637045,  15.30118101,\n",
       "        31.32934915,   6.1691941 ,  20.6083716 ,  16.60764429,\n",
       "        37.90839793,   3.24792106,  12.61654055,   9.77306851,\n",
       "         4.05100588,  16.3313559 ,   2.25289704,  12.78149703,\n",
       "        29.95303286,   6.07738564,   8.16035149,  19.20850741,\n",
       "        10.66856915,   4.19425361,  23.47155345,  37.02537053,\n",
       "         8.2010593 ,   2.73504101,  23.87044005,   7.24276661,\n",
       "         5.95393037,   5.87711253,   5.74426416,  23.37183636,\n",
       "        15.64256182,   8.76640933,   7.73506066,  33.6289569 ,\n",
       "         2.92250936,  18.34069183,  22.26268649,  12.84807434,\n",
       "        15.51345085,  11.65008874,  16.1054593 ,  15.60909194,\n",
       "        11.37362364,  15.19595481,   2.1101531 ,   5.00198557,\n",
       "        16.22266383,  32.62978831,   7.78995914,  21.34184787,\n",
       "        18.83116275,  25.34321563,   6.11314342,   4.27857802,\n",
       "        32.76542966,  23.33048745,   4.39055022,   2.6712828 ,\n",
       "         6.07404012,  26.43412692,   3.72696193,  27.22853376,\n",
       "        16.11201756,  13.73542748,  17.55972903,  64.29319614,\n",
       "        17.6285641 ,  26.42987155,  13.10566271,  19.13917647,\n",
       "         9.08318857,  31.33969597,   7.61661038,  16.92631354])"
      ]
     },
     "execution_count": 23,
     "metadata": {},
     "output_type": "execute_result"
    }
   ],
   "source": [
    "x = np.random.gamma(2,8,size=n)\n",
    "x"
   ]
  },
  {
   "cell_type": "code",
   "execution_count": 24,
   "metadata": {
    "collapsed": false
   },
   "outputs": [
    {
     "data": {
      "text/plain": [
       "12.8147856846465"
      ]
     },
     "execution_count": 24,
     "metadata": {},
     "output_type": "execute_result"
    }
   ],
   "source": [
    "np.median(x)"
   ]
  },
  {
   "cell_type": "code",
   "execution_count": 25,
   "metadata": {
    "collapsed": false
   },
   "outputs": [],
   "source": [
    "resample=np.random.randint(n,size=(n,10000))\n",
    "x_resamples = x[resample]\n",
    "x_boot = np.median(x_resamples,axis=0)"
   ]
  },
  {
   "cell_type": "code",
   "execution_count": 27,
   "metadata": {
    "collapsed": false
   },
   "outputs": [
    {
     "name": "stdout",
     "output_type": "stream",
     "text": [
      "mean(x_boot) = 12.9417291687\n",
      "std(x_boot) = 1.64036014508\n"
     ]
    },
    {
     "data": {
      "image/png": "[encoded data removed]",
      "text/plain": [
       "<matplotlib.figure.Figure at 0x2c2006498d0>"
      ]
     },
     "metadata": {},
     "output_type": "display_data"
    }
   ],
   "source": [
    "plt.hist(x_boot,20);\n",
    "print('mean(x_boot) = ' + str(np.mean(x_boot)))\n",
    "print('std(x_boot) = ' + str(np.std(x_boot)))"
   ]
  },
  {
   "cell_type": "markdown",
   "metadata": {},
   "source": [
    "We can also bootstrap correlation for example"
   ]
  },
  {
   "cell_type": "code",
   "execution_count": 29,
   "metadata": {
    "collapsed": false
   },
   "outputs": [
    {
     "name": "stdout",
     "output_type": "stream",
     "text": [
      "corr = 0.798383010343\n"
     ]
    },
    {
     "data": {
      "image/png": "[encoded data removed]",
      "text/plain": [
       "<matplotlib.figure.Figure at 0x2c2006c6a90>"
      ]
     },
     "metadata": {},
     "output_type": "display_data"
    }
   ],
   "source": [
    "x = pd.Series(np.random.normal(size=30))\n",
    "y = x + pd.Series(np.random.normal(size=30))\n",
    "plt.plot(x,y,'.');\n",
    "corr_sample = np.corrcoef(x,y)[0,1]\n",
    "print('corr = ' + str(corr_sample))"
   ]
  },
  {
   "cell_type": "code",
   "execution_count": 31,
   "metadata": {
    "collapsed": false
   },
   "outputs": [
    {
     "name": "stdout",
     "output_type": "stream",
     "text": [
      "mean(corr_boot) = 0.79620825006\n",
      "std(corr_boot) = 0.0625142258112\n"
     ]
    },
    {
     "data": {
      "image/png": "[encoded data removed]",
      "text/plain": [
       "<matplotlib.figure.Figure at 0x2c20036ddd8>"
      ]
     },
     "metadata": {},
     "output_type": "display_data"
    }
   ],
   "source": [
    "corr_boot = np.zeros(1000)\n",
    "\n",
    "for i in range(1000):\n",
    "    resample = np.random.randint(30,size=30)\n",
    "    corr_boot[i] = np.corrcoef(x[resample],y[resample])[0,1]\n",
    "    \n",
    "plt.hist(corr_boot, 20);\n",
    "print('mean(corr_boot) = ' + str(np.mean(corr_boot)))\n",
    "print('std(corr_boot) = ' + str(np.std(corr_boot)))"
   ]
  },
  {
   "cell_type": "code",
   "execution_count": null,
   "metadata": {
    "collapsed": true
   },
   "outputs": [],
   "source": []
  }
 ],
 "metadata": {
  "kernelspec": {
   "display_name": "Python 3.6",
   "language": "python",
   "name": "py36"
  },
  "language_info": {
   "codemirror_mode": {
    "name": "ipython",
    "version": 3
   },
   "file_extension": ".py",
   "mimetype": "text/x-python",
   "name": "python",
   "nbconvert_exporter": "python",
   "pygments_lexer": "ipython3",
   "version": "3.6.1"
  }
 },
 "nbformat": 4,
 "nbformat_minor": 2
}
