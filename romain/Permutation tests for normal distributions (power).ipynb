{
 "cells": [
  {
   "cell_type": "markdown",
   "metadata": {},
   "source": [
    "They are most useful when we have insufficient information about the distribution of the data, are uncomfortable making assumptions about the distribution, or if the distribution of the test statistic is not easily computed.\n",
    "http://www.biostat.ucsf.edu/sen/statgen14/permutation-tests.html\n",
    "\n",
    "If we shuffle the data randomly and assign them to groups, then we will destroy any association between the data and the group (the null hypothesis). Therefore, the distribution of the test statistic obtained from repeated random shuffling, can be used to approximate the null distribution of the test statistic.\n",
    "\n",
    "A permutation test is guaranteed to have the correct desired false positive rate (Type I error) regardless of the distributional characteristics of the data at hand. This flexibility comes at the cost of increased computational complexity."
   ]
  },
  {
   "cell_type": "code",
   "execution_count": 1,
   "metadata": {
    "collapsed": true
   },
   "outputs": [],
   "source": [
    "import numpy as np\n",
    "import pandas as pd\n",
    "from scipy import stats\n",
    "import matplotlib.pyplot as plt\n",
    "import sklearn as sk\n",
    "import scipy.stats.stats as st\n",
    "%matplotlib inline\n",
    "import random"
   ]
  },
  {
   "cell_type": "markdown",
   "metadata": {},
   "source": [
    "NORMAL DISTRIBUTIONS HOMOSCEDASTIC"
   ]
  },
  {
   "cell_type": "code",
   "execution_count": 3,
   "metadata": {
    "collapsed": false
   },
   "outputs": [
    {
     "data": {
      "text/plain": [
       "array([ 1.2411367 ,  0.68457077,  1.90557306,  2.20476764,  0.13805967,\n",
       "        0.9665966 , -0.440937  , -0.64212586,  0.4719096 , -0.2880221 ])"
      ]
     },
     "execution_count": 3,
     "metadata": {},
     "output_type": "execute_result"
    }
   ],
   "source": [
    "x"
   ]
  },
  {
   "cell_type": "code",
   "execution_count": 4,
   "metadata": {
    "collapsed": false
   },
   "outputs": [
    {
     "data": {
      "text/plain": [
       "array([-0.01432483, -1.85649839,  1.04748225,  1.30222469,  0.32667053,\n",
       "       -1.51832415,  0.09758566,  0.54132723, -0.06339234,  1.61838937,\n",
       "       -0.68252644,  0.67516181,  1.51195619, -0.36669032,  1.90662893,\n",
       "        0.87168262,  1.47025571,  0.35794725, -2.72618668, -0.6185851 ,\n",
       "        0.10391688, -0.119186  ,  1.03156811,  0.30485315,  1.14455575,\n",
       "        1.29575271, -0.44486134,  0.41905563,  0.54041733,  0.51590034,\n",
       "       -1.15375714, -0.54569583, -1.31122903,  1.61142172,  0.56036046,\n",
       "        0.17669566, -0.83249768,  1.98645348,  0.63409855,  1.95302847,\n",
       "        1.93760148,  0.5276784 , -0.86218205,  2.37350124, -1.56707616,\n",
       "        0.94375265, -0.71309133,  1.38212932, -1.50069328,  0.20293484])"
      ]
     },
     "execution_count": 4,
     "metadata": {},
     "output_type": "execute_result"
    }
   ],
   "source": [
    "y"
   ]
  },
  {
   "cell_type": "code",
   "execution_count": 2,
   "metadata": {
    "collapsed": true
   },
   "outputs": [],
   "source": [
    "#Example to start with, two samples from a normal distribution\n",
    "# and test whether the mean is larger than 1000 shuffles of the 2 samples \n",
    "x=np.random.normal(size=10)\n",
    "y=np.random.normal(size=50)\n",
    "delta=abs(np.mean(x)-np.mean(y))"
   ]
  },
  {
   "cell_type": "code",
   "execution_count": 5,
   "metadata": {
    "collapsed": false
   },
   "outputs": [
    {
     "data": {
      "text/plain": [
       "0.33462910385358585"
      ]
     },
     "execution_count": 5,
     "metadata": {},
     "output_type": "execute_result"
    }
   ],
   "source": [
    "delta"
   ]
  },
  {
   "cell_type": "code",
   "execution_count": 6,
   "metadata": {
    "collapsed": false
   },
   "outputs": [],
   "source": [
    "delta_sh=np.zeros(1000)\n",
    "\n",
    "z=np.concatenate([x,y])\n",
    "for i in range(1000):\n",
    "    random.shuffle(z)\n",
    "    delta_sh[i]=np.mean(z[:10])-np.mean(z[10:])\n",
    "p_perm=np.mean((delta_sh>delta) | (delta_sh<-delta))\n"
   ]
  },
  {
   "cell_type": "code",
   "execution_count": 9,
   "metadata": {
    "collapsed": false
   },
   "outputs": [
    {
     "name": "stdout",
     "output_type": "stream",
     "text": [
      "p(perm test) = 0.377\n",
      "p(t-test) = 0.390869257911\n"
     ]
    },
    {
     "data": {
      "image/png": "[encoded data removed]",
      "text/plain": [
       "<matplotlib.figure.Figure at 0x291dcd449e8>"
      ]
     },
     "metadata": {},
     "output_type": "display_data"
    }
   ],
   "source": [
    "#This is the null distribution of the test statistic that we can use to assess \n",
    "# the unlikeliness of our observed statistic.\n",
    "plt.hist(delta_sh, 20);\n",
    "print('p(perm test) = ' + str(p_perm))\n",
    "\n",
    "plt.axvline(delta,color='red')\n",
    "\n",
    "p_value=stats.ttest_ind(x,y).pvalue\n",
    "print('p(t-test) = ' + str(p_value))"
   ]
  },
  {
   "cell_type": "markdown",
   "metadata": {},
   "source": [
    "Now we compute the distribution of the p-values with a permutation test when the null hypothesis is true."
   ]
  },
  {
   "cell_type": "code",
   "execution_count": 44,
   "metadata": {
    "collapsed": false
   },
   "outputs": [
    {
     "name": "stdout",
     "output_type": "stream",
     "text": [
      "0,100,200,300,400,500,600,700,800,900,"
     ]
    }
   ],
   "source": [
    "#We generate 1000 times two samples from a normal distribution\n",
    "# and test whether the mean is larger than 1000 shuffles of the 2 samples \n",
    "p_perm=np.zeros(1000)\n",
    "p_value=[]\n",
    "\n",
    "for k in range(1000):\n",
    "    x=np.random.normal(size=10)\n",
    "    y=np.random.normal(size=50)\n",
    "    delta=abs(np.mean(x)-np.mean(y))\n",
    "    z=np.concatenate([x,y])\n",
    "    delta_sh=np.zeros(1000)\n",
    "    for i in range(1000):\n",
    "        random.shuffle(z)\n",
    "        delta_sh[i]=abs(np.mean(z[:10])-np.mean(z[10:]))\n",
    "    p_perm[k]=np.mean(delta<delta_sh)\n",
    "    p_value.append(stats.ttest_ind(x,y).pvalue)\n",
    "    if k%100==0:\n",
    "        print(k,end=',')"
   ]
  },
  {
   "cell_type": "code",
   "execution_count": 45,
   "metadata": {
    "collapsed": false
   },
   "outputs": [
    {
     "data": {
      "image/png": "[encoded data removed]",
      "text/plain": [
       "<matplotlib.figure.Figure at 0x1a33f48e7f0>"
      ]
     },
     "metadata": {},
     "output_type": "display_data"
    }
   ],
   "source": [
    "plt.hist(p_perm,20, alpha=0.9);\n",
    "plt.hist(p_value,20, alpha=0.9);"
   ]
  },
  {
   "cell_type": "code",
   "execution_count": 47,
   "metadata": {
    "collapsed": false
   },
   "outputs": [
    {
     "data": {
      "text/plain": [
       "'type-I error rate = 0.048'"
      ]
     },
     "execution_count": 47,
     "metadata": {},
     "output_type": "execute_result"
    }
   ],
   "source": [
    "'type-I error rate = {:.3f}'.format(np.mean(p_perm<0.05))"
   ]
  },
  {
   "cell_type": "markdown",
   "metadata": {},
   "source": [
    "Then we compute the distribution of the p-values with a permutation test when the alternative hypothesis is true."
   ]
  },
  {
   "cell_type": "code",
   "execution_count": 48,
   "metadata": {
    "collapsed": false
   },
   "outputs": [
    {
     "name": "stdout",
     "output_type": "stream",
     "text": [
      "0,100,200,300,400,500,600,700,800,900,"
     ]
    }
   ],
   "source": [
    "#We generate 1000 times two samples from normal distribution with a mean difference of 0.5\n",
    "# and test whether the mean is larger than 1000 shuffles of the 2 samples \n",
    "p_permb=np.zeros(1000)\n",
    "p_valueb=[]\n",
    "\n",
    "\n",
    "for k in range(1000):\n",
    "    x=np.random.normal(size=10)\n",
    "    y=np.random.normal(size=50)+0.5\n",
    "    delta=abs(np.mean(x)-np.mean(y))\n",
    "    z=np.concatenate([x,y])\n",
    "    delta_sh=np.zeros(1000)\n",
    "    for i in range(1000):\n",
    "        random.shuffle(z)\n",
    "        delta_sh[i]=abs(np.mean(z[:10])-np.mean(z[50:]))\n",
    "    p_permb[k]=np.mean(delta<delta_sh)\n",
    "    p_valueb.append(stats.ttest_ind(x,y).pvalue)\n",
    "\n",
    "    if k%100==0:\n",
    "        print(k,end=',')"
   ]
  },
  {
   "cell_type": "code",
   "execution_count": 49,
   "metadata": {
    "collapsed": false
   },
   "outputs": [
    {
     "data": {
      "image/png": "[encoded data removed]",
      "text/plain": [
       "<matplotlib.figure.Figure at 0x1a33f8eae10>"
      ]
     },
     "metadata": {},
     "output_type": "display_data"
    }
   ],
   "source": [
    "plt.hist(p_permb,20);\n",
    "plt.hist(p_valueb,20);"
   ]
  },
  {
   "cell_type": "code",
   "execution_count": 50,
   "metadata": {
    "collapsed": false
   },
   "outputs": [
    {
     "name": "stdout",
     "output_type": "stream",
     "text": [
      "power =  0.048\n"
     ]
    }
   ],
   "source": [
    "print('power = ', str(np.mean(p_perm<0.05)))"
   ]
  },
  {
   "cell_type": "markdown",
   "metadata": {},
   "source": [
    "We do the same for heteroscedastic distributions (we fail the criterion of exchangeability)."
   ]
  },
  {
   "cell_type": "code",
   "execution_count": 51,
   "metadata": {
    "collapsed": false
   },
   "outputs": [
    {
     "name": "stdout",
     "output_type": "stream",
     "text": [
      "0,100,200,300,400,500,600,700,800,900,"
     ]
    }
   ],
   "source": [
    "#Now let's see for heteroscedastic distribution. We will see \n",
    "# that the permutation test fails pretty much like the t-test\n",
    "#Why? because the criterion of exchangeability is not met!\n",
    "p_perm_het=np.zeros(1000)\n",
    "p_value_het=[]\n",
    "\n",
    "for k in range(1000):\n",
    "    x=np.random.normal(size=10)\n",
    "    y=5*np.random.normal(size=50)\n",
    "    delta=abs(np.mean(x)-np.mean(y))\n",
    "    z=np.concatenate([x,y])\n",
    "    delta_sh=np.zeros(1000)\n",
    "    for i in range(1000):\n",
    "        random.shuffle(z)\n",
    "        delta_sh[i]=abs(np.mean(z[:10])-np.mean(z[50:]))\n",
    "    p_perm_het[k]=np.mean(delta<delta_sh)\n",
    "    p_value_het.append(stats.ttest_ind(x,y).pvalue)\n",
    "    \n",
    "    if k%100==0:\n",
    "        print(k,end=',')"
   ]
  },
  {
   "cell_type": "code",
   "execution_count": 52,
   "metadata": {
    "collapsed": false
   },
   "outputs": [
    {
     "name": "stdout",
     "output_type": "stream",
     "text": [
      "Permutation: 0.0\n",
      "t-test: 0.0\n"
     ]
    },
    {
     "data": {
      "image/png": "[encoded data removed]",
      "text/plain": [
       "<matplotlib.figure.Figure at 0x1a33f216c18>"
      ]
     },
     "metadata": {},
     "output_type": "display_data"
    }
   ],
   "source": [
    "plt.hist(p_perm_het,20,alpha=0.5);\n",
    "plt.hist(p_value_het,20,alpha=0.5);\n",
    "print('Permutation:',np.mean(p_perm_het<0.05))\n",
    "print('t-test:',np.mean(pd.Series(p_value_het)<0.05))"
   ]
  },
  {
   "cell_type": "code",
   "execution_count": 53,
   "metadata": {
    "collapsed": false
   },
   "outputs": [
    {
     "name": "stdout",
     "output_type": "stream",
     "text": [
      "0,100,200,300,400,500,600,700,800,900,"
     ]
    }
   ],
   "source": [
    "#Now let's compute the power for heteroscedastic distributions\n",
    "p_perm_hetb=np.zeros(1000)\n",
    "p_value_hetb=[]\n",
    "\n",
    "for k in range(1000):\n",
    "    x=np.random.normal(size=10)\n",
    "    y=5*np.random.normal(size=50)+2\n",
    "    delta=abs(np.mean(x)-np.mean(y))\n",
    "    z=np.concatenate([x,y])\n",
    "    delta_sh=np.zeros(1000)\n",
    "    for i in range(1000):\n",
    "        random.shuffle(z)\n",
    "        delta_sh[i]=abs(np.mean(z[:10])-np.mean(z[50:]))\n",
    "    p_perm_hetb[k]=np.mean(delta<delta_sh)\n",
    "    p_value_hetb.append(stats.ttest_ind(x,y).pvalue)\n",
    "    \n",
    "    if k%100==0:\n",
    "        print(k,end=',')"
   ]
  },
  {
   "cell_type": "code",
   "execution_count": 54,
   "metadata": {
    "collapsed": false,
    "scrolled": true
   },
   "outputs": [
    {
     "data": {
      "image/png": "[encoded data removed]",
      "text/plain": [
       "<matplotlib.figure.Figure at 0x1a33f8ea550>"
      ]
     },
     "metadata": {},
     "output_type": "display_data"
    }
   ],
   "source": [
    "plt.hist(p_perm_hetb,20);\n",
    "plt.hist(p_value_hetb,20);"
   ]
  },
  {
   "cell_type": "markdown",
   "metadata": {},
   "source": [
    "Non-normal distribution"
   ]
  },
  {
   "cell_type": "code",
   "execution_count": 11,
   "metadata": {
    "collapsed": true
   },
   "outputs": [],
   "source": [
    "x=np.random.gamma(1,10,size=100000)"
   ]
  },
  {
   "cell_type": "code",
   "execution_count": 13,
   "metadata": {
    "collapsed": false
   },
   "outputs": [
    {
     "data": {
      "image/png": "[encoded data removed]",
      "text/plain": [
       "<matplotlib.figure.Figure at 0x291dcd0e7f0>"
      ]
     },
     "metadata": {},
     "output_type": "display_data"
    }
   ],
   "source": [
    "plt.hist(x,100);"
   ]
  },
  {
   "cell_type": "code",
   "execution_count": 55,
   "metadata": {
    "collapsed": false
   },
   "outputs": [
    {
     "name": "stdout",
     "output_type": "stream",
     "text": [
      "0,100,200,300,400,500,600,700,800,900,"
     ]
    }
   ],
   "source": [
    "#Now let's see for non-normal distribution\n",
    "p_perm_gamma=np.zeros(1000)\n",
    "p_value_gamma=[]\n",
    "\n",
    "for k in range(1000):\n",
    "    x=np.random.gamma(1,10,size=10)\n",
    "    y=np.random.gamma(1,10,size=10)\n",
    "\n",
    "    delta=abs(np.mean(x)-np.mean(y))\n",
    "    z=np.concatenate([x,y])\n",
    "    \n",
    "    delta_sh=np.zeros(1000)\n",
    "    for i in range(1000):\n",
    "        random.shuffle(z)\n",
    "        delta_sh[i]=abs(np.mean(z[:10])-np.mean(z[10:]))\n",
    "        \n",
    "    p_perm_gamma[k]=np.mean(delta<delta_sh)\n",
    "    p_value_gamma.append(stats.ttest_ind(x,y).pvalue)\n",
    "    \n",
    "    if k%100==0:\n",
    "        print(k,end=',')"
   ]
  },
  {
   "cell_type": "code",
   "execution_count": 56,
   "metadata": {
    "collapsed": false
   },
   "outputs": [
    {
     "data": {
      "image/png": "[encoded data removed]",
      "text/plain": [
       "<matplotlib.figure.Figure at 0x1a340bba828>"
      ]
     },
     "metadata": {},
     "output_type": "display_data"
    }
   ],
   "source": [
    "plt.hist(p_perm_gamma,20, alpha=0.95);\n",
    "plt.hist(p_value_gamma,20, alpha=0.95);"
   ]
  },
  {
   "cell_type": "markdown",
   "metadata": {},
   "source": [
    "Skewness test"
   ]
  },
  {
   "cell_type": "code",
   "execution_count": 57,
   "metadata": {
    "collapsed": true
   },
   "outputs": [],
   "source": [
    "x=np.random.normal(size=20)\n",
    "y=np.random.normal(size=20)\n",
    "delta=st.skew(x)-st.skew(y)\n",
    "z=np.concatenate([x,y])\n",
    "delta_sh=np.zeros(1000)\n",
    "for i in range(1000):\n",
    "    random.shuffle(z)\n",
    "    delta_sh[i]=st.skew(z[:20])-st.skew(z[20:])"
   ]
  },
  {
   "cell_type": "code",
   "execution_count": 58,
   "metadata": {
    "collapsed": false
   },
   "outputs": [
    {
     "name": "stdout",
     "output_type": "stream",
     "text": [
      "effect = 0.3252215501049172 and p-value = 0.564\n"
     ]
    },
    {
     "data": {
      "image/png": "[encoded data removed]",
      "text/plain": [
       "<matplotlib.figure.Figure at 0x1a340c0aa58>"
      ]
     },
     "metadata": {},
     "output_type": "display_data"
    }
   ],
   "source": [
    "plt.hist(delta_sh, 20);\n",
    "plt.axvline(delta,color='red')\n",
    "print('effect = ' + str(delta) + ' and p-value = ' + \n",
    "      str(np.mean((delta_sh>abs(delta)) | (delta_sh<-abs(delta)))))"
   ]
  },
  {
   "cell_type": "code",
   "execution_count": 87,
   "metadata": {
    "collapsed": false
   },
   "outputs": [
    {
     "name": "stdout",
     "output_type": "stream",
     "text": [
      "0,10,20,30,40,50,60,70,80,90,100,110,120,130,140,150,160,170,180,190,200,210,220,230,240,250,260,270,280,290,300,310,320,330,340,350,360,370,380,390,400,410,420,430,440,450,460,470,480,490,500,510,520,530,540,550,560,570,580,590,600,610,620,630,640,650,660,670,680,690,700,710,720,730,740,750,760,770,780,790,800,810,820,830,840,850,860,870,880,890,900,910,920,930,940,950,960,970,980,990,"
     ]
    }
   ],
   "source": [
    "p_perm_skew=np.zeros(1000)\n",
    "\n",
    "for k in range(1000):\n",
    "    x=np.random.normal(size=20)\n",
    "    y=np.random.normal(size=20)\n",
    "    delta=abs(st.skew(x)-st.skew(y))\n",
    "    z=np.concatenate([x,y])\n",
    "    delta_sh=np.zeros(1000)\n",
    "    for i in range(1000):\n",
    "        random.shuffle(z)\n",
    "        delta_sh[i]=abs(st.skew(z[:20])-st.skew(z[20:]))\n",
    "    p_perm_skew[k]=np.mean(delta<delta_sh)\n",
    "\n",
    "    if k%10==0:\n",
    "        print(k,end=',')"
   ]
  },
  {
   "cell_type": "code",
   "execution_count": 88,
   "metadata": {
    "collapsed": false
   },
   "outputs": [
    {
     "data": {
      "image/png": "[encoded data removed]",
      "text/plain": [
       "<matplotlib.figure.Figure at 0x1a33f220128>"
      ]
     },
     "metadata": {},
     "output_type": "display_data"
    }
   ],
   "source": [
    "plt.hist(p_perm_skew,20);"
   ]
  },
  {
   "cell_type": "code",
   "execution_count": 83,
   "metadata": {
    "collapsed": false
   },
   "outputs": [],
   "source": [
    "x=np.random.normal(size=20)\n",
    "y=np.random.gamma(1,10,size=20)\n",
    "y=(y-np.mean(y))/np.std(y)\n",
    "delta=abs(st.skew(x)-st.skew(y))\n",
    "z=np.concatenate([x,y])\n",
    "delta_sh=np.zeros(50000)\n",
    "for i in range(50000):\n",
    "    random.shuffle(z)\n",
    "    delta_sh[i]=st.skew(z[:20])-st.skew(z[20:])"
   ]
  },
  {
   "cell_type": "code",
   "execution_count": 84,
   "metadata": {
    "collapsed": false
   },
   "outputs": [
    {
     "name": "stdout",
     "output_type": "stream",
     "text": [
      "effect = 2.4503863054445376 and p-value = 0.02598\n"
     ]
    },
    {
     "data": {
      "image/png": "[encoded data removed]",
      "text/plain": [
       "<matplotlib.figure.Figure at 0x1a33f5de198>"
      ]
     },
     "metadata": {},
     "output_type": "display_data"
    }
   ],
   "source": [
    "plt.hist(delta_sh, 20);\n",
    "plt.axvline(delta,color='red')\n",
    "print('effect = ' + str(delta) + ' and p-value = ' + \n",
    "      str(np.mean((delta_sh>delta) | (delta_sh<-delta))))"
   ]
  },
  {
   "cell_type": "code",
   "execution_count": 85,
   "metadata": {
    "collapsed": false
   },
   "outputs": [
    {
     "name": "stdout",
     "output_type": "stream",
     "text": [
      "0,10,20,30,40,50,60,70,80,90,100,110,120,130,140,150,160,170,180,190,200,210,220,230,240,250,260,270,280,290,300,310,320,330,340,350,360,370,380,390,400,410,420,430,440,450,460,470,480,490,500,510,520,530,540,550,560,570,580,590,600,610,620,630,640,650,660,670,680,690,700,710,720,730,740,750,760,770,780,790,800,810,820,830,840,850,860,870,880,890,900,910,920,930,940,950,960,970,980,990,"
     ]
    }
   ],
   "source": [
    "p_perm_skewb=np.zeros(1000)\n",
    "\n",
    "for k in range(1000):\n",
    "    x=np.random.normal(size=20)\n",
    "    y=np.random.gamma(1,10,size=20)\n",
    "    y=(y-np.mean(y))/np.std(y)\n",
    "    delta=abs(st.skew(x)-st.skew(y))\n",
    "    z=np.concatenate([x,y])\n",
    "    delta_sh=np.zeros(1000)\n",
    "    for i in range(1000):\n",
    "        random.shuffle(z)\n",
    "        delta_sh[i]=abs(st.skew(z[:20])-st.skew(z[20:]))\n",
    "    p_perm_skewb[k]=np.mean(delta<delta_sh)\n",
    "\n",
    "    if k%10==0:\n",
    "        print(k,end=',')"
   ]
  },
  {
   "cell_type": "code",
   "execution_count": 86,
   "metadata": {
    "collapsed": false,
    "scrolled": false
   },
   "outputs": [
    {
     "data": {
      "image/png": "[encoded data removed]",
      "text/plain": [
       "<matplotlib.figure.Figure at 0x1a33f6724e0>"
      ]
     },
     "metadata": {},
     "output_type": "display_data"
    }
   ],
   "source": [
    "plt.hist(p_perm_skewb,20);"
   ]
  }
 ],
 "metadata": {
  "kernelspec": {
   "display_name": "Python 3.6",
   "language": "python",
   "name": "py36"
  },
  "language_info": {
   "codemirror_mode": {
    "name": "ipython",
    "version": 3
   },
   "file_extension": ".py",
   "mimetype": "text/x-python",
   "name": "python",
   "nbconvert_exporter": "python",
   "pygments_lexer": "ipython3",
   "version": "3.6.1"
  }
 },
 "nbformat": 4,
 "nbformat_minor": 2
}
