{
 "cells": [
  {
   "cell_type": "markdown",
   "metadata": {
    "slideshow": {
     "slide_type": "slide"
    }
   },
   "source": [
    "# Introductions"
   ]
  },
  {
   "cell_type": "markdown",
   "metadata": {
    "slideshow": {
     "slide_type": "fragment"
    }
   },
   "source": [
    "My name is Sergey Antopolskiy"
   ]
  },
  {
   "cell_type": "markdown",
   "metadata": {
    "slideshow": {
     "slide_type": "fragment"
    }
   },
   "source": [
    "I am a postdoc at Mathew Diamond's Tactile Perception and Learning Lab"
   ]
  },
  {
   "cell_type": "markdown",
   "metadata": {
    "slideshow": {
     "slide_type": "slide"
    }
   },
   "source": [
    "# Organizational"
   ]
  },
  {
   "cell_type": "markdown",
   "metadata": {
    "slideshow": {
     "slide_type": "notes"
    }
   },
   "source": [
    "### First\n",
    "\n",
    "We have people with diverse backgrounds in programming, so it is inevitable that for some of you the pace of the course will be too fast and for others it will seem too slow. \n",
    "\n",
    "Here are my suggestions for these groups of people.\n",
    "\n",
    "If you belong to the first group, you will need to invest more time between lectures in reviewing course materials and, more importantly, practicing. Set aside some time for that, especially try to free first week of the course from other major commitments. I am organizing *office hours*, time during which you can come and ask for my help (more on that below). Use it to catch up.\n",
    "\n",
    "If you feel like I am going too slowly, look through the materials ahead and try to apply it to your data. Look at additional materials in the \"where to go from here\" section, I will put there links to some advanced topics as well. Also, look through the materials for the next lectures in advance and see what you might be interested in and what is very familiar to you. I will try to announce a day ahead what we will be covering on the next lesson.\n",
    "\n",
    "### Second\n",
    "\n",
    "I really want this course to be as interactive as possible. But it is always a challenge for the instructor. How I want to approach this:\n",
    "- I will ask you questions during the lectures, like asking to raise your hands if you know something. This is not only to engage you, but also to understand how many of you know something, how much I need to go into details\n",
    "- I might ask some of you to explain something, if you said that you know about it\n",
    "- I might ask you to propose some explanation or ideas\n",
    "\n",
    "The aim of this course is two-fold. On the one hand, I want you to learn certain concepts from computer science and programming, some of them you will be able to apply directly to your work. Some will help you to find information on that later when you need it. On the other hand, I want to teach you some practical skills, which you will be able to apply immediately to your work. In fact, I encourage you to do it as we go, and I will help you as much as I can. Then we can look together at what you did and how you did it, it will be helpful for everyone."
   ]
  },
  {
   "cell_type": "markdown",
   "metadata": {
    "slideshow": {
     "slide_type": "fragment"
    }
   },
   "source": [
    "Course materials here: http://nbviewer.jupyter.org/github/antopolskiy/sciprog/tree/master/\n",
    "\n",
    "Course Slack channel for discussions, question, announcements: https://sciprog.slack.com/ (you can sign up with @sissa.it email; if you don't have one, send an email to the course instructor)."
   ]
  },
  {
   "cell_type": "markdown",
   "metadata": {
    "slideshow": {
     "slide_type": "slide"
    }
   },
   "source": [
    "# Office hours: come and talk to me!\n",
    "\n",
    "I can answer your questions, help you with assignments or application of the concepts to your data.\n",
    "\n",
    "- Tuesday from 16:00 to 18:00\n",
    "- Thursday from 16:00 to 18:00\n",
    "\n",
    "Find me in the office 324. You can come freely during these periods, but better write me on Slack or by email.\n",
    "\n",
    "- Saturday from 10:00 to 12:00 (You will need to tell me in advance that you will come)"
   ]
  },
  {
   "cell_type": "markdown",
   "metadata": {
    "slideshow": {
     "slide_type": "slide"
    }
   },
   "source": [
    "# Topics overview\n",
    "\n",
    "- Python programming basics\n",
    "- Numerical arrays\n",
    "- Data organization principles (tidy data vs messy data)\n",
    "- Data manipulation in Python\n",
    "- Data collection: `psychopy` (Davide Crepaldi), May 2-9\n",
    "- Visualization\n",
    "- Data analysis in Python\n",
    "- Bootstrap and statistical simulations\n",
    "- Machine learning: core principles and practice\n",
    "- Advance topics (if we have time)"
   ]
  },
  {
   "cell_type": "markdown",
   "metadata": {
    "slideshow": {
     "slide_type": "slide"
    }
   },
   "source": [
    "# Let's get started"
   ]
  },
  {
   "cell_type": "markdown",
   "metadata": {
    "slideshow": {
     "slide_type": "slide"
    }
   },
   "source": [
    "## Why learn programming? \n",
    "\n",
    "## Why not use Excel or other statistical tools with easy user interface?"
   ]
  },
  {
   "cell_type": "markdown",
   "metadata": {
    "slideshow": {
     "slide_type": "fragment"
    }
   },
   "source": [
    "### - scripting and modularity\n",
    "### - speed and memory efficiency\n",
    "### - freedom to try (almost) anything"
   ]
  },
  {
   "cell_type": "markdown",
   "metadata": {
    "slideshow": {
     "slide_type": "notes"
    }
   },
   "source": [
    "Freedom is particularly important in research and development, because you want to push the boudaries, you don't want to only walk the \"main road\".\n",
    "\n",
    "There are other practical reasons. Programming is *lingua franca* of industry and technology. If you ever want to leave academia, it is very likely that your best chances at interesting and fulfulling job are in the tech industry. In that case you absolutely need to be fluent in programming. Even if you want to stay in acamedia, you don't want to be *forced* to stay in academia. Doing anything, even something you like, while feeling like you don't have a choice is a sure way to be frustrated and stressed, and eventually start hating that thing you liked. Besides, in our days the gap between academia and industry is ever shrinking. So learning programming at least 1 language is one of the best investments in your future you can make."
   ]
  },
  {
   "cell_type": "markdown",
   "metadata": {
    "slideshow": {
     "slide_type": "slide"
    }
   },
   "source": [
    "# Ok, so we learn to program... but what?\n",
    "\n",
    "### C++? Fortran? Pascal? Basic? Assembler?! No."
   ]
  },
  {
   "cell_type": "markdown",
   "metadata": {
    "slideshow": {
     "slide_type": "fragment"
    }
   },
   "source": [
    "# Language we need is:\n",
    "\n",
    "### Interpreted, not compiled (at least at first)\n",
    "\n",
    "### High-level, not low-level\n",
    "\n",
    "### Convenient for working with data\n",
    "\n",
    "### (Relatively) easy to learn"
   ]
  },
  {
   "cell_type": "markdown",
   "metadata": {
    "slideshow": {
     "slide_type": "notes"
    }
   },
   "source": [
    "What is the different between interpreted and compiled languages, at least in a nutshell? Why compiled languages are always so fast, which interpreted are only fast if you implement correctly? Answers: dynamic typing vs static typing, memory management."
   ]
  },
  {
   "cell_type": "markdown",
   "metadata": {
    "slideshow": {
     "slide_type": "slide"
    }
   },
   "source": [
    "# Our main choices are: MATLAB, R or Python"
   ]
  },
  {
   "cell_type": "markdown",
   "metadata": {
    "slideshow": {
     "slide_type": "fragment"
    }
   },
   "source": [
    "# Which language to choose?"
   ]
  },
  {
   "cell_type": "markdown",
   "metadata": {
    "slideshow": {
     "slide_type": "fragment"
    }
   },
   "source": [
    "### It doesn't matter\n",
    "\n",
    "### Things to consider:"
   ]
  },
  {
   "cell_type": "markdown",
   "metadata": {
    "slideshow": {
     "slide_type": "fragment"
    }
   },
   "source": [
    "- You need to use big chunks of someone else's code "
   ]
  },
  {
   "cell_type": "markdown",
   "metadata": {
    "slideshow": {
     "slide_type": "fragment"
    }
   },
   "source": [
    "- You want to use a particular library or package (Brainstorm, Psychopy)"
   ]
  },
  {
   "cell_type": "markdown",
   "metadata": {
    "slideshow": {
     "slide_type": "notes"
    }
   },
   "source": [
    "However, remember that you don't need to use the same language at all stages of your process. Switching between several languages may prove tedious at first, but it usually simpler than it seems. You can easily run your experiment using one language, and analyse it in another."
   ]
  },
  {
   "cell_type": "markdown",
   "metadata": {
    "slideshow": {
     "slide_type": "fragment"
    }
   },
   "source": [
    "- You want to work locally on any computer"
   ]
  },
  {
   "cell_type": "markdown",
   "metadata": {
    "slideshow": {
     "slide_type": "notes"
    }
   },
   "source": [
    "Matlab is a paid software, and it requires you to have a licence. Even if your university has a licence, it is likely available only when you're connected to the network. Therefore, it can be difficult to work remotely."
   ]
  },
  {
   "cell_type": "markdown",
   "metadata": {
    "slideshow": {
     "slide_type": "slide"
    }
   },
   "source": [
    "# Pros and cons\n",
    "(disclosure: somewhat subjective)"
   ]
  },
  {
   "cell_type": "markdown",
   "metadata": {
    "slideshow": {
     "slide_type": "slide"
    }
   },
   "source": [
    "<img src=\"https://www.mathworks.com/content/mathworks/www/en/company/newsletters/articles/the-mathworks-logo-is-an-eigenfunction-of-the-wave-equation/_jcr_content/mainParsys/image_2.img.gif/1469941373397.gif\" align=\"left\" alt=\"Drawing\" style=\"width: 80px;\"/>\n",
    "\n",
    "# Matlab "
   ]
  },
  {
   "cell_type": "markdown",
   "metadata": {
    "slideshow": {
     "slide_type": "fragment"
    }
   },
   "source": [
    "Pros:\n",
    "- out-of-the-box solution\n",
    "- easy to start\n",
    "- decent documentation: not great, but good enough\n",
    "- really fast for linear algebra\n",
    "- you write in (almost) mathematical notation\n",
    "    \n",
    "        X = [1 2 3, 4 5 6]\n",
    "        X_transpose = X'\n",
    "        \n",
    "- \"matlab apps\"\n",
    "- \"parfor\" allows easy multithreading\n",
    "- Simulink"
   ]
  },
  {
   "cell_type": "markdown",
   "metadata": {
    "slideshow": {
     "slide_type": "slide"
    }
   },
   "source": [
    "<img src=\"https://www.mathworks.com/content/mathworks/www/en/company/newsletters/articles/the-mathworks-logo-is-an-eigenfunction-of-the-wave-equation/_jcr_content/mainParsys/image_2.img.gif/1469941373397.gif\" align=\"left\" alt=\"Drawing\" style=\"width: 80px;\"/>\n",
    "\n",
    "# Matlab "
   ]
  },
  {
   "cell_type": "markdown",
   "metadata": {
    "slideshow": {
     "slide_type": "-"
    }
   },
   "source": [
    "Cons:\n",
    "- expensive, need to pay for add-ons (toolboxes)\n",
    "- developed by selected experts\n",
    "- proprietary code (\"closed source\")\n",
    "- slow development \n",
    "- plotting and exporting figures is not great\n",
    "- data manipulation is clunky\n",
    "- huge overhead costs (memory and CPU)\n",
    "- not widely used outside academia\n",
    "- small community"
   ]
  },
  {
   "cell_type": "markdown",
   "metadata": {
    "slideshow": {
     "slide_type": "slide"
    }
   },
   "source": [
    "<img src=\"https://www.r-project.org/logo/Rlogo.svg\" align=\"left\" alt=\"Drawing\" style=\"width: 80px;\"/>"
   ]
  },
  {
   "cell_type": "markdown",
   "metadata": {
    "slideshow": {
     "slide_type": "fragment"
    }
   },
   "source": [
    "Pros:\n",
    "- developed by statisticians\n",
    "- great plotting capabilities\n",
    "- great data manipulation capabilities\n",
    "- vibrant community\n",
    "- high demand on the data science market"
   ]
  },
  {
   "cell_type": "markdown",
   "metadata": {
    "slideshow": {
     "slide_type": "slide"
    }
   },
   "source": [
    "<img src=\"https://www.r-project.org/logo/Rlogo.svg\" align=\"left\" alt=\"Drawing\" style=\"width: 80px;\"/>"
   ]
  },
  {
   "cell_type": "markdown",
   "metadata": {
    "slideshow": {
     "slide_type": "-"
    }
   },
   "source": [
    "Cons:\n",
    "- developed by statisticians\n",
    "- sometimes obscure syntax\n",
    "- slow\n",
    "- lot's of packages, sometimes without a \"standart\"\n",
    "- relatively steep learning curve\n",
    "- not general language"
   ]
  },
  {
   "cell_type": "markdown",
   "metadata": {
    "slideshow": {
     "slide_type": "slide"
    }
   },
   "source": [
    "<img src=\"https://www.python.org/static/opengraph-icon-200x200.png\" align=\"left\" alt=\"Drawing\" style=\"width: 80px;\"/>\n",
    "# Python"
   ]
  },
  {
   "cell_type": "markdown",
   "metadata": {
    "slideshow": {
     "slide_type": "fragment"
    }
   },
   "source": [
    "Pros:\n",
    "- really well designed language\n",
    "    - gets both of 2 worlds: speed for computations from MATLAB (`numpy` package) and data manipulation from R (`pandas` package) \n",
    "- (relatively) easy to learn\n",
    "- a lot (!) of great resourses\n",
    "- great string manipulation (*de-facto* standart for NLP; R and MATLAB are not even close)"
   ]
  },
  {
   "cell_type": "markdown",
   "metadata": {
    "slideshow": {
     "slide_type": "slide"
    }
   },
   "source": [
    "<img src=\"https://www.python.org/static/opengraph-icon-200x200.png\" align=\"left\" alt=\"Drawing\" style=\"width: 80px;\"/>\n",
    "# Python"
   ]
  },
  {
   "cell_type": "markdown",
   "metadata": {
    "slideshow": {
     "slide_type": "-"
    }
   },
   "source": [
    "Pros:\n",
    "\n",
    "- object-oriented and introspective\n",
    "- general purpose (learn for data analysis, but use for anything!)\n",
    "- standardized \"stack\" of packages for data analysis\n",
    "- Jupyter notebooks\n",
    "- huge and welcoming community offline (PyData) and online (on Stackoverflow)"
   ]
  },
  {
   "cell_type": "markdown",
   "metadata": {
    "slideshow": {
     "slide_type": "slide"
    }
   },
   "source": [
    "<img src=\"https://www.python.org/static/opengraph-icon-200x200.png\" align=\"left\" alt=\"Drawing\" style=\"width: 80px;\"/>\n",
    "# Python"
   ]
  },
  {
   "cell_type": "markdown",
   "metadata": {
    "slideshow": {
     "slide_type": "-"
    }
   },
   "source": [
    "Cons:\n",
    "- None!"
   ]
  },
  {
   "cell_type": "markdown",
   "metadata": {
    "slideshow": {
     "slide_type": "notes"
    }
   },
   "source": [
    "Ok, I am joking: I am an enthusiast, not a fanatic :D"
   ]
  },
  {
   "cell_type": "markdown",
   "metadata": {
    "slideshow": {
     "slide_type": "slide"
    }
   },
   "source": [
    "<img src=\"https://www.python.org/static/opengraph-icon-200x200.png\" align=\"left\" alt=\"Drawing\" style=\"width: 80px;\"/>\n",
    "# Python"
   ]
  },
  {
   "cell_type": "markdown",
   "metadata": {
    "slideshow": {
     "slide_type": "-"
    }
   },
   "source": [
    "Cons:\n",
    "- uneven documentation \n",
    "    - some things are amazingly well documented: scikit-learn, pandas, matplotlib\n",
    "    - other - not so much: wavelets, psychopy, etc\n",
    "- can be slow if you do things in a wrong way\n",
    "- sometimes syntax may be too verbose\n",
    "- some things are still missing"
   ]
  },
  {
   "cell_type": "markdown",
   "metadata": {
    "slideshow": {
     "slide_type": "slide"
    }
   },
   "source": [
    "# Before we go into nitty-gritty details\n",
    "\n",
    "- we will look (mostly) at Python, but if you cannot find how certain things are done in Matlab, ask on Slack or during office hours; for R ask Davide Crepaldi (dcrepaldi@sissa.it)\n",
    "\n",
    "- in the classroom focus on the conceptual understanding of what you **can** do, as opposed to **how** you do it (you will have the course materials for that)\n",
    "\n",
    "- ask questions at any point if something is unclear\n",
    "\n",
    "- outside classroom focus on **how** you do things, try for yourself; bring questions on Slack, on the next lesson or during office hours\n",
    "\n",
    "- the goal of the class is for you to be able to apply concepts to your own work"
   ]
  },
  {
   "cell_type": "markdown",
   "metadata": {
    "slideshow": {
     "slide_type": "notes"
    }
   },
   "source": [
    "Who here has their own data? If someone doesn't have data, either ask in your lab, or find online, or ask me."
   ]
  }
 ],
 "metadata": {
  "celltoolbar": "Slideshow",
  "kernelspec": {
   "display_name": "Python 3.6",
   "language": "python",
   "name": "py36"
  },
  "language_info": {
   "codemirror_mode": {
    "name": "ipython",
    "version": 3
   },
   "file_extension": ".py",
   "mimetype": "text/x-python",
   "name": "python",
   "nbconvert_exporter": "python",
   "pygments_lexer": "ipython3",
   "version": "3.6.1"
  }
 },
 "nbformat": 4,
 "nbformat_minor": 0
}
