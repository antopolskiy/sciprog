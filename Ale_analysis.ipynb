{
 "cells": [
  {
   "cell_type": "markdown",
   "metadata": {},
   "source": [
    "Analysis of Alessandro data in the live session on 13/4/17 (not annotated)"
   ]
  },
  {
   "cell_type": "code",
   "execution_count": 4,
   "metadata": {
    "collapsed": true
   },
   "outputs": [],
   "source": [
    "import pandas as pd\n",
    "import numpy as np"
   ]
  },
  {
   "cell_type": "code",
   "execution_count": 5,
   "metadata": {
    "collapsed": true
   },
   "outputs": [],
   "source": [
    "from scipy.io import loadmat"
   ]
  },
  {
   "cell_type": "code",
   "execution_count": 40,
   "metadata": {
    "collapsed": true
   },
   "outputs": [],
   "source": [
    "mat = loadmat('data/Ale_subj1.mat')"
   ]
  },
  {
   "cell_type": "code",
   "execution_count": 41,
   "metadata": {
    "collapsed": false
   },
   "outputs": [
    {
     "data": {
      "text/plain": [
       "array([[  1.00000000e+00,   2.00000000e+00,   1.00000000e+00, ...,\n",
       "          1.00000000e+00,   1.00000000e+00,   1.00000000e+00],\n",
       "       [  1.00000000e+00,   2.00000000e+00,   2.00000000e+00, ...,\n",
       "          1.00000000e+00,   1.00000000e+00,   1.00000000e+00],\n",
       "       [  1.00000000e+00,   2.00000000e+00,   3.00000000e+00, ...,\n",
       "          1.00000000e+00,   1.00000000e+00,   1.00000000e+00],\n",
       "       ..., \n",
       "       [  1.00000000e+00,   1.00000000e+00,   1.45400000e+03, ...,\n",
       "          0.00000000e+00,   1.00000000e+00,   1.00000000e+00],\n",
       "       [  1.00000000e+00,   1.00000000e+00,   1.45500000e+03, ...,\n",
       "          1.00000000e+00,   1.00000000e+00,   1.00000000e+00],\n",
       "       [  1.00000000e+00,   1.00000000e+00,   1.45600000e+03, ...,\n",
       "          0.00000000e+00,   1.00000000e+00,   1.00000000e+00]])"
      ]
     },
     "execution_count": 41,
     "metadata": {},
     "output_type": "execute_result"
    }
   ],
   "source": [
    "mat['Subject1']"
   ]
  },
  {
   "cell_type": "code",
   "execution_count": 42,
   "metadata": {
    "collapsed": false
   },
   "outputs": [
    {
     "data": {
      "text/html": [
       "<div>\n",
       "<table border=\"1\" class=\"dataframe\">\n",
       "  <thead>\n",
       "    <tr style=\"text-align: right;\">\n",
       "      <th></th>\n",
       "      <th>0</th>\n",
       "      <th>1</th>\n",
       "      <th>2</th>\n",
       "      <th>3</th>\n",
       "      <th>4</th>\n",
       "      <th>5</th>\n",
       "      <th>6</th>\n",
       "      <th>7</th>\n",
       "      <th>8</th>\n",
       "      <th>9</th>\n",
       "      <th>10</th>\n",
       "      <th>11</th>\n",
       "      <th>12</th>\n",
       "      <th>13</th>\n",
       "      <th>14</th>\n",
       "      <th>15</th>\n",
       "    </tr>\n",
       "  </thead>\n",
       "  <tbody>\n",
       "    <tr>\n",
       "      <th>0</th>\n",
       "      <td>1.0</td>\n",
       "      <td>2.0</td>\n",
       "      <td>1.0</td>\n",
       "      <td>10.00</td>\n",
       "      <td>300.0</td>\n",
       "      <td>20.0</td>\n",
       "      <td>500.0</td>\n",
       "      <td>8.18</td>\n",
       "      <td>450.00</td>\n",
       "      <td>27.0</td>\n",
       "      <td>500.0</td>\n",
       "      <td>0.0</td>\n",
       "      <td>1.0</td>\n",
       "      <td>1.0</td>\n",
       "      <td>1.0</td>\n",
       "      <td>1.0</td>\n",
       "    </tr>\n",
       "    <tr>\n",
       "      <th>1</th>\n",
       "      <td>1.0</td>\n",
       "      <td>2.0</td>\n",
       "      <td>2.0</td>\n",
       "      <td>10.00</td>\n",
       "      <td>300.0</td>\n",
       "      <td>35.0</td>\n",
       "      <td>500.0</td>\n",
       "      <td>5.38</td>\n",
       "      <td>366.67</td>\n",
       "      <td>19.0</td>\n",
       "      <td>500.0</td>\n",
       "      <td>0.0</td>\n",
       "      <td>1.0</td>\n",
       "      <td>1.0</td>\n",
       "      <td>1.0</td>\n",
       "      <td>1.0</td>\n",
       "    </tr>\n",
       "    <tr>\n",
       "      <th>2</th>\n",
       "      <td>1.0</td>\n",
       "      <td>2.0</td>\n",
       "      <td>3.0</td>\n",
       "      <td>5.38</td>\n",
       "      <td>300.0</td>\n",
       "      <td>3.0</td>\n",
       "      <td>500.0</td>\n",
       "      <td>2.90</td>\n",
       "      <td>450.00</td>\n",
       "      <td>46.0</td>\n",
       "      <td>500.0</td>\n",
       "      <td>0.0</td>\n",
       "      <td>1.0</td>\n",
       "      <td>1.0</td>\n",
       "      <td>1.0</td>\n",
       "      <td>1.0</td>\n",
       "    </tr>\n",
       "    <tr>\n",
       "      <th>3</th>\n",
       "      <td>1.0</td>\n",
       "      <td>2.0</td>\n",
       "      <td>4.0</td>\n",
       "      <td>18.57</td>\n",
       "      <td>300.0</td>\n",
       "      <td>45.0</td>\n",
       "      <td>500.0</td>\n",
       "      <td>10.00</td>\n",
       "      <td>200.00</td>\n",
       "      <td>18.0</td>\n",
       "      <td>500.0</td>\n",
       "      <td>0.0</td>\n",
       "      <td>1.0</td>\n",
       "      <td>1.0</td>\n",
       "      <td>1.0</td>\n",
       "      <td>1.0</td>\n",
       "    </tr>\n",
       "    <tr>\n",
       "      <th>4</th>\n",
       "      <td>1.0</td>\n",
       "      <td>2.0</td>\n",
       "      <td>5.0</td>\n",
       "      <td>10.00</td>\n",
       "      <td>300.0</td>\n",
       "      <td>23.0</td>\n",
       "      <td>500.0</td>\n",
       "      <td>10.00</td>\n",
       "      <td>300.00</td>\n",
       "      <td>12.0</td>\n",
       "      <td>500.0</td>\n",
       "      <td>0.0</td>\n",
       "      <td>0.0</td>\n",
       "      <td>0.0</td>\n",
       "      <td>1.0</td>\n",
       "      <td>1.0</td>\n",
       "    </tr>\n",
       "    <tr>\n",
       "      <th>5</th>\n",
       "      <td>1.0</td>\n",
       "      <td>2.0</td>\n",
       "      <td>6.0</td>\n",
       "      <td>10.00</td>\n",
       "      <td>300.0</td>\n",
       "      <td>11.0</td>\n",
       "      <td>500.0</td>\n",
       "      <td>18.57</td>\n",
       "      <td>450.00</td>\n",
       "      <td>15.0</td>\n",
       "      <td>500.0</td>\n",
       "      <td>0.0</td>\n",
       "      <td>0.0</td>\n",
       "      <td>0.0</td>\n",
       "      <td>1.0</td>\n",
       "      <td>1.0</td>\n",
       "    </tr>\n",
       "    <tr>\n",
       "      <th>6</th>\n",
       "      <td>1.0</td>\n",
       "      <td>2.0</td>\n",
       "      <td>7.0</td>\n",
       "      <td>10.00</td>\n",
       "      <td>300.0</td>\n",
       "      <td>24.0</td>\n",
       "      <td>500.0</td>\n",
       "      <td>12.22</td>\n",
       "      <td>557.14</td>\n",
       "      <td>9.0</td>\n",
       "      <td>500.0</td>\n",
       "      <td>0.0</td>\n",
       "      <td>0.0</td>\n",
       "      <td>0.0</td>\n",
       "      <td>1.0</td>\n",
       "      <td>1.0</td>\n",
       "    </tr>\n",
       "    <tr>\n",
       "      <th>7</th>\n",
       "      <td>1.0</td>\n",
       "      <td>2.0</td>\n",
       "      <td>8.0</td>\n",
       "      <td>10.00</td>\n",
       "      <td>300.0</td>\n",
       "      <td>16.0</td>\n",
       "      <td>500.0</td>\n",
       "      <td>18.57</td>\n",
       "      <td>300.00</td>\n",
       "      <td>16.0</td>\n",
       "      <td>500.0</td>\n",
       "      <td>0.0</td>\n",
       "      <td>0.0</td>\n",
       "      <td>0.0</td>\n",
       "      <td>1.0</td>\n",
       "      <td>1.0</td>\n",
       "    </tr>\n",
       "    <tr>\n",
       "      <th>8</th>\n",
       "      <td>1.0</td>\n",
       "      <td>2.0</td>\n",
       "      <td>9.0</td>\n",
       "      <td>18.57</td>\n",
       "      <td>300.0</td>\n",
       "      <td>8.0</td>\n",
       "      <td>500.0</td>\n",
       "      <td>10.00</td>\n",
       "      <td>450.00</td>\n",
       "      <td>43.0</td>\n",
       "      <td>500.0</td>\n",
       "      <td>0.0</td>\n",
       "      <td>1.0</td>\n",
       "      <td>1.0</td>\n",
       "      <td>1.0</td>\n",
       "      <td>1.0</td>\n",
       "    </tr>\n",
       "    <tr>\n",
       "      <th>9</th>\n",
       "      <td>1.0</td>\n",
       "      <td>2.0</td>\n",
       "      <td>10.0</td>\n",
       "      <td>18.57</td>\n",
       "      <td>300.0</td>\n",
       "      <td>45.0</td>\n",
       "      <td>500.0</td>\n",
       "      <td>10.00</td>\n",
       "      <td>300.00</td>\n",
       "      <td>37.0</td>\n",
       "      <td>500.0</td>\n",
       "      <td>0.0</td>\n",
       "      <td>1.0</td>\n",
       "      <td>1.0</td>\n",
       "      <td>1.0</td>\n",
       "      <td>1.0</td>\n",
       "    </tr>\n",
       "  </tbody>\n",
       "</table>\n",
       "</div>"
      ],
      "text/plain": [
       "    0    1     2      3      4     5      6      7       8     9      10   11  \\\n",
       "0  1.0  2.0   1.0  10.00  300.0  20.0  500.0   8.18  450.00  27.0  500.0  0.0   \n",
       "1  1.0  2.0   2.0  10.00  300.0  35.0  500.0   5.38  366.67  19.0  500.0  0.0   \n",
       "2  1.0  2.0   3.0   5.38  300.0   3.0  500.0   2.90  450.00  46.0  500.0  0.0   \n",
       "3  1.0  2.0   4.0  18.57  300.0  45.0  500.0  10.00  200.00  18.0  500.0  0.0   \n",
       "4  1.0  2.0   5.0  10.00  300.0  23.0  500.0  10.00  300.00  12.0  500.0  0.0   \n",
       "5  1.0  2.0   6.0  10.00  300.0  11.0  500.0  18.57  450.00  15.0  500.0  0.0   \n",
       "6  1.0  2.0   7.0  10.00  300.0  24.0  500.0  12.22  557.14   9.0  500.0  0.0   \n",
       "7  1.0  2.0   8.0  10.00  300.0  16.0  500.0  18.57  300.00  16.0  500.0  0.0   \n",
       "8  1.0  2.0   9.0  18.57  300.0   8.0  500.0  10.00  450.00  43.0  500.0  0.0   \n",
       "9  1.0  2.0  10.0  18.57  300.0  45.0  500.0  10.00  300.00  37.0  500.0  0.0   \n",
       "\n",
       "    12   13   14   15  \n",
       "0  1.0  1.0  1.0  1.0  \n",
       "1  1.0  1.0  1.0  1.0  \n",
       "2  1.0  1.0  1.0  1.0  \n",
       "3  1.0  1.0  1.0  1.0  \n",
       "4  0.0  0.0  1.0  1.0  \n",
       "5  0.0  0.0  1.0  1.0  \n",
       "6  0.0  0.0  1.0  1.0  \n",
       "7  0.0  0.0  1.0  1.0  \n",
       "8  1.0  1.0  1.0  1.0  \n",
       "9  1.0  1.0  1.0  1.0  "
      ]
     },
     "execution_count": 42,
     "metadata": {},
     "output_type": "execute_result"
    }
   ],
   "source": [
    "df = pd.DataFrame(mat['Subject1'])\n",
    "df.head(10)"
   ]
  },
  {
   "cell_type": "code",
   "execution_count": 43,
   "metadata": {
    "collapsed": false
   },
   "outputs": [],
   "source": [
    "cols = ['id_subj','session','trial','s1_int','s1_dur','s1_seed','inter_stim_delay',\n",
    "'s2_int','s2_dur','s2_seed','pre_stim_delay','task_type','rewarded_choice',\n",
    "'subj_choice','s1_motor','s2_motor']"
   ]
  },
  {
   "cell_type": "code",
   "execution_count": 44,
   "metadata": {
    "collapsed": true
   },
   "outputs": [],
   "source": [
    "df.columns = cols"
   ]
  },
  {
   "cell_type": "code",
   "execution_count": 45,
   "metadata": {
    "collapsed": false
   },
   "outputs": [
    {
     "data": {
      "text/html": [
       "<div>\n",
       "<table border=\"1\" class=\"dataframe\">\n",
       "  <thead>\n",
       "    <tr style=\"text-align: right;\">\n",
       "      <th></th>\n",
       "      <th>id_subj</th>\n",
       "      <th>session</th>\n",
       "      <th>trial</th>\n",
       "      <th>s1_int</th>\n",
       "      <th>s1_dur</th>\n",
       "      <th>s1_seed</th>\n",
       "      <th>inter_stim_delay</th>\n",
       "      <th>s2_int</th>\n",
       "      <th>s2_dur</th>\n",
       "      <th>s2_seed</th>\n",
       "      <th>pre_stim_delay</th>\n",
       "      <th>task_type</th>\n",
       "      <th>rewarded_choice</th>\n",
       "      <th>subj_choice</th>\n",
       "      <th>s1_motor</th>\n",
       "      <th>s2_motor</th>\n",
       "    </tr>\n",
       "  </thead>\n",
       "  <tbody>\n",
       "    <tr>\n",
       "      <th>0</th>\n",
       "      <td>1.0</td>\n",
       "      <td>2.0</td>\n",
       "      <td>1.0</td>\n",
       "      <td>10.00</td>\n",
       "      <td>300.0</td>\n",
       "      <td>20.0</td>\n",
       "      <td>500.0</td>\n",
       "      <td>8.18</td>\n",
       "      <td>450.00</td>\n",
       "      <td>27.0</td>\n",
       "      <td>500.0</td>\n",
       "      <td>0.0</td>\n",
       "      <td>1.0</td>\n",
       "      <td>1.0</td>\n",
       "      <td>1.0</td>\n",
       "      <td>1.0</td>\n",
       "    </tr>\n",
       "    <tr>\n",
       "      <th>1</th>\n",
       "      <td>1.0</td>\n",
       "      <td>2.0</td>\n",
       "      <td>2.0</td>\n",
       "      <td>10.00</td>\n",
       "      <td>300.0</td>\n",
       "      <td>35.0</td>\n",
       "      <td>500.0</td>\n",
       "      <td>5.38</td>\n",
       "      <td>366.67</td>\n",
       "      <td>19.0</td>\n",
       "      <td>500.0</td>\n",
       "      <td>0.0</td>\n",
       "      <td>1.0</td>\n",
       "      <td>1.0</td>\n",
       "      <td>1.0</td>\n",
       "      <td>1.0</td>\n",
       "    </tr>\n",
       "    <tr>\n",
       "      <th>2</th>\n",
       "      <td>1.0</td>\n",
       "      <td>2.0</td>\n",
       "      <td>3.0</td>\n",
       "      <td>5.38</td>\n",
       "      <td>300.0</td>\n",
       "      <td>3.0</td>\n",
       "      <td>500.0</td>\n",
       "      <td>2.90</td>\n",
       "      <td>450.00</td>\n",
       "      <td>46.0</td>\n",
       "      <td>500.0</td>\n",
       "      <td>0.0</td>\n",
       "      <td>1.0</td>\n",
       "      <td>1.0</td>\n",
       "      <td>1.0</td>\n",
       "      <td>1.0</td>\n",
       "    </tr>\n",
       "    <tr>\n",
       "      <th>3</th>\n",
       "      <td>1.0</td>\n",
       "      <td>2.0</td>\n",
       "      <td>4.0</td>\n",
       "      <td>18.57</td>\n",
       "      <td>300.0</td>\n",
       "      <td>45.0</td>\n",
       "      <td>500.0</td>\n",
       "      <td>10.00</td>\n",
       "      <td>200.00</td>\n",
       "      <td>18.0</td>\n",
       "      <td>500.0</td>\n",
       "      <td>0.0</td>\n",
       "      <td>1.0</td>\n",
       "      <td>1.0</td>\n",
       "      <td>1.0</td>\n",
       "      <td>1.0</td>\n",
       "    </tr>\n",
       "    <tr>\n",
       "      <th>4</th>\n",
       "      <td>1.0</td>\n",
       "      <td>2.0</td>\n",
       "      <td>5.0</td>\n",
       "      <td>10.00</td>\n",
       "      <td>300.0</td>\n",
       "      <td>23.0</td>\n",
       "      <td>500.0</td>\n",
       "      <td>10.00</td>\n",
       "      <td>300.00</td>\n",
       "      <td>12.0</td>\n",
       "      <td>500.0</td>\n",
       "      <td>0.0</td>\n",
       "      <td>0.0</td>\n",
       "      <td>0.0</td>\n",
       "      <td>1.0</td>\n",
       "      <td>1.0</td>\n",
       "    </tr>\n",
       "  </tbody>\n",
       "</table>\n",
       "</div>"
      ],
      "text/plain": [
       "   id_subj  session  trial  s1_int  s1_dur  s1_seed  inter_stim_delay  s2_int  \\\n",
       "0      1.0      2.0    1.0   10.00   300.0     20.0             500.0    8.18   \n",
       "1      1.0      2.0    2.0   10.00   300.0     35.0             500.0    5.38   \n",
       "2      1.0      2.0    3.0    5.38   300.0      3.0             500.0    2.90   \n",
       "3      1.0      2.0    4.0   18.57   300.0     45.0             500.0   10.00   \n",
       "4      1.0      2.0    5.0   10.00   300.0     23.0             500.0   10.00   \n",
       "\n",
       "   s2_dur  s2_seed  pre_stim_delay  task_type  rewarded_choice  subj_choice  \\\n",
       "0  450.00     27.0           500.0        0.0              1.0          1.0   \n",
       "1  366.67     19.0           500.0        0.0              1.0          1.0   \n",
       "2  450.00     46.0           500.0        0.0              1.0          1.0   \n",
       "3  200.00     18.0           500.0        0.0              1.0          1.0   \n",
       "4  300.00     12.0           500.0        0.0              0.0          0.0   \n",
       "\n",
       "   s1_motor  s2_motor  \n",
       "0       1.0       1.0  \n",
       "1       1.0       1.0  \n",
       "2       1.0       1.0  \n",
       "3       1.0       1.0  \n",
       "4       1.0       1.0  "
      ]
     },
     "execution_count": 45,
     "metadata": {},
     "output_type": "execute_result"
    }
   ],
   "source": [
    "df.head()"
   ]
  },
  {
   "cell_type": "code",
   "execution_count": 46,
   "metadata": {
    "collapsed": false
   },
   "outputs": [
    {
     "data": {
      "text/html": [
       "<div>\n",
       "<table border=\"1\" class=\"dataframe\">\n",
       "  <thead>\n",
       "    <tr style=\"text-align: right;\">\n",
       "      <th></th>\n",
       "      <th>id_subj</th>\n",
       "      <th>session</th>\n",
       "      <th>trial</th>\n",
       "      <th>s1_int</th>\n",
       "      <th>s1_dur</th>\n",
       "      <th>s1_seed</th>\n",
       "      <th>inter_stim_delay</th>\n",
       "      <th>s2_int</th>\n",
       "      <th>s2_dur</th>\n",
       "      <th>s2_seed</th>\n",
       "      <th>pre_stim_delay</th>\n",
       "      <th>task_type</th>\n",
       "      <th>rewarded_choice</th>\n",
       "      <th>subj_choice</th>\n",
       "      <th>s1_motor</th>\n",
       "      <th>s2_motor</th>\n",
       "    </tr>\n",
       "  </thead>\n",
       "  <tbody>\n",
       "    <tr>\n",
       "      <th>0</th>\n",
       "      <td>1.0</td>\n",
       "      <td>2.0</td>\n",
       "      <td>1.0</td>\n",
       "      <td>10.00</td>\n",
       "      <td>300.0</td>\n",
       "      <td>20.0</td>\n",
       "      <td>500.0</td>\n",
       "      <td>8.18</td>\n",
       "      <td>450.00</td>\n",
       "      <td>27.0</td>\n",
       "      <td>500.0</td>\n",
       "      <td>0.0</td>\n",
       "      <td>1.0</td>\n",
       "      <td>1.0</td>\n",
       "      <td>1.0</td>\n",
       "      <td>1.0</td>\n",
       "    </tr>\n",
       "    <tr>\n",
       "      <th>1</th>\n",
       "      <td>1.0</td>\n",
       "      <td>2.0</td>\n",
       "      <td>2.0</td>\n",
       "      <td>10.00</td>\n",
       "      <td>300.0</td>\n",
       "      <td>35.0</td>\n",
       "      <td>500.0</td>\n",
       "      <td>5.38</td>\n",
       "      <td>366.67</td>\n",
       "      <td>19.0</td>\n",
       "      <td>500.0</td>\n",
       "      <td>0.0</td>\n",
       "      <td>1.0</td>\n",
       "      <td>1.0</td>\n",
       "      <td>1.0</td>\n",
       "      <td>1.0</td>\n",
       "    </tr>\n",
       "    <tr>\n",
       "      <th>2</th>\n",
       "      <td>1.0</td>\n",
       "      <td>2.0</td>\n",
       "      <td>3.0</td>\n",
       "      <td>5.38</td>\n",
       "      <td>300.0</td>\n",
       "      <td>3.0</td>\n",
       "      <td>500.0</td>\n",
       "      <td>2.90</td>\n",
       "      <td>450.00</td>\n",
       "      <td>46.0</td>\n",
       "      <td>500.0</td>\n",
       "      <td>0.0</td>\n",
       "      <td>1.0</td>\n",
       "      <td>1.0</td>\n",
       "      <td>1.0</td>\n",
       "      <td>1.0</td>\n",
       "    </tr>\n",
       "    <tr>\n",
       "      <th>3</th>\n",
       "      <td>1.0</td>\n",
       "      <td>2.0</td>\n",
       "      <td>4.0</td>\n",
       "      <td>18.57</td>\n",
       "      <td>300.0</td>\n",
       "      <td>45.0</td>\n",
       "      <td>500.0</td>\n",
       "      <td>10.00</td>\n",
       "      <td>200.00</td>\n",
       "      <td>18.0</td>\n",
       "      <td>500.0</td>\n",
       "      <td>0.0</td>\n",
       "      <td>1.0</td>\n",
       "      <td>1.0</td>\n",
       "      <td>1.0</td>\n",
       "      <td>1.0</td>\n",
       "    </tr>\n",
       "    <tr>\n",
       "      <th>4</th>\n",
       "      <td>1.0</td>\n",
       "      <td>2.0</td>\n",
       "      <td>5.0</td>\n",
       "      <td>10.00</td>\n",
       "      <td>300.0</td>\n",
       "      <td>23.0</td>\n",
       "      <td>500.0</td>\n",
       "      <td>10.00</td>\n",
       "      <td>300.00</td>\n",
       "      <td>12.0</td>\n",
       "      <td>500.0</td>\n",
       "      <td>0.0</td>\n",
       "      <td>0.0</td>\n",
       "      <td>0.0</td>\n",
       "      <td>1.0</td>\n",
       "      <td>1.0</td>\n",
       "    </tr>\n",
       "  </tbody>\n",
       "</table>\n",
       "</div>"
      ],
      "text/plain": [
       "   id_subj  session  trial  s1_int  s1_dur  s1_seed  inter_stim_delay  s2_int  \\\n",
       "0      1.0      2.0    1.0   10.00   300.0     20.0             500.0    8.18   \n",
       "1      1.0      2.0    2.0   10.00   300.0     35.0             500.0    5.38   \n",
       "2      1.0      2.0    3.0    5.38   300.0      3.0             500.0    2.90   \n",
       "3      1.0      2.0    4.0   18.57   300.0     45.0             500.0   10.00   \n",
       "4      1.0      2.0    5.0   10.00   300.0     23.0             500.0   10.00   \n",
       "\n",
       "   s2_dur  s2_seed  pre_stim_delay  task_type  rewarded_choice  subj_choice  \\\n",
       "0  450.00     27.0           500.0        0.0              1.0          1.0   \n",
       "1  366.67     19.0           500.0        0.0              1.0          1.0   \n",
       "2  450.00     46.0           500.0        0.0              1.0          1.0   \n",
       "3  200.00     18.0           500.0        0.0              1.0          1.0   \n",
       "4  300.00     12.0           500.0        0.0              0.0          0.0   \n",
       "\n",
       "   s1_motor  s2_motor  \n",
       "0       1.0       1.0  \n",
       "1       1.0       1.0  \n",
       "2       1.0       1.0  \n",
       "3       1.0       1.0  \n",
       "4       1.0       1.0  "
      ]
     },
     "execution_count": 46,
     "metadata": {},
     "output_type": "execute_result"
    }
   ],
   "source": [
    "df = pd.DataFrame(mat['Subject1'], columns=cols)\n",
    "df.head()"
   ]
  },
  {
   "cell_type": "code",
   "execution_count": 47,
   "metadata": {
    "collapsed": true
   },
   "outputs": [],
   "source": [
    "s2 = loadmat('data/Ale_subj2.mat')\n",
    "s2_info = s2['Subject2']"
   ]
  },
  {
   "cell_type": "code",
   "execution_count": 48,
   "metadata": {
    "collapsed": false
   },
   "outputs": [],
   "source": [
    "s2_info = loadmat('data/Ale_subj2.mat')['Subject2']"
   ]
  },
  {
   "cell_type": "code",
   "execution_count": 49,
   "metadata": {
    "collapsed": false
   },
   "outputs": [
    {
     "data": {
      "text/html": [
       "<div>\n",
       "<table border=\"1\" class=\"dataframe\">\n",
       "  <thead>\n",
       "    <tr style=\"text-align: right;\">\n",
       "      <th></th>\n",
       "      <th>id_subj</th>\n",
       "      <th>session</th>\n",
       "      <th>trial</th>\n",
       "      <th>s1_int</th>\n",
       "      <th>s1_dur</th>\n",
       "      <th>s1_seed</th>\n",
       "      <th>inter_stim_delay</th>\n",
       "      <th>s2_int</th>\n",
       "      <th>s2_dur</th>\n",
       "      <th>s2_seed</th>\n",
       "      <th>pre_stim_delay</th>\n",
       "      <th>task_type</th>\n",
       "      <th>rewarded_choice</th>\n",
       "      <th>subj_choice</th>\n",
       "      <th>s1_motor</th>\n",
       "      <th>s2_motor</th>\n",
       "    </tr>\n",
       "  </thead>\n",
       "  <tbody>\n",
       "    <tr>\n",
       "      <th>0</th>\n",
       "      <td>2.0</td>\n",
       "      <td>1.0</td>\n",
       "      <td>1.0</td>\n",
       "      <td>10.00</td>\n",
       "      <td>557.14</td>\n",
       "      <td>9.0</td>\n",
       "      <td>500.0</td>\n",
       "      <td>8.18</td>\n",
       "      <td>300.00</td>\n",
       "      <td>15.0</td>\n",
       "      <td>500.0</td>\n",
       "      <td>0.0</td>\n",
       "      <td>1.0</td>\n",
       "      <td>1.0</td>\n",
       "      <td>1.0</td>\n",
       "      <td>1.0</td>\n",
       "    </tr>\n",
       "    <tr>\n",
       "      <th>1</th>\n",
       "      <td>2.0</td>\n",
       "      <td>1.0</td>\n",
       "      <td>2.0</td>\n",
       "      <td>5.38</td>\n",
       "      <td>300.00</td>\n",
       "      <td>4.0</td>\n",
       "      <td>500.0</td>\n",
       "      <td>2.90</td>\n",
       "      <td>245.46</td>\n",
       "      <td>3.0</td>\n",
       "      <td>500.0</td>\n",
       "      <td>0.0</td>\n",
       "      <td>1.0</td>\n",
       "      <td>1.0</td>\n",
       "      <td>1.0</td>\n",
       "      <td>1.0</td>\n",
       "    </tr>\n",
       "    <tr>\n",
       "      <th>2</th>\n",
       "      <td>2.0</td>\n",
       "      <td>1.0</td>\n",
       "      <td>3.0</td>\n",
       "      <td>10.00</td>\n",
       "      <td>450.00</td>\n",
       "      <td>21.0</td>\n",
       "      <td>500.0</td>\n",
       "      <td>15.00</td>\n",
       "      <td>300.00</td>\n",
       "      <td>19.0</td>\n",
       "      <td>500.0</td>\n",
       "      <td>0.0</td>\n",
       "      <td>0.0</td>\n",
       "      <td>0.0</td>\n",
       "      <td>1.0</td>\n",
       "      <td>1.0</td>\n",
       "    </tr>\n",
       "    <tr>\n",
       "      <th>3</th>\n",
       "      <td>2.0</td>\n",
       "      <td>1.0</td>\n",
       "      <td>4.0</td>\n",
       "      <td>10.00</td>\n",
       "      <td>300.00</td>\n",
       "      <td>44.0</td>\n",
       "      <td>500.0</td>\n",
       "      <td>12.22</td>\n",
       "      <td>161.54</td>\n",
       "      <td>47.0</td>\n",
       "      <td>500.0</td>\n",
       "      <td>0.0</td>\n",
       "      <td>0.0</td>\n",
       "      <td>0.0</td>\n",
       "      <td>1.0</td>\n",
       "      <td>1.0</td>\n",
       "    </tr>\n",
       "    <tr>\n",
       "      <th>4</th>\n",
       "      <td>2.0</td>\n",
       "      <td>1.0</td>\n",
       "      <td>5.0</td>\n",
       "      <td>10.00</td>\n",
       "      <td>300.00</td>\n",
       "      <td>47.0</td>\n",
       "      <td>500.0</td>\n",
       "      <td>15.00</td>\n",
       "      <td>161.54</td>\n",
       "      <td>7.0</td>\n",
       "      <td>500.0</td>\n",
       "      <td>0.0</td>\n",
       "      <td>0.0</td>\n",
       "      <td>0.0</td>\n",
       "      <td>1.0</td>\n",
       "      <td>1.0</td>\n",
       "    </tr>\n",
       "  </tbody>\n",
       "</table>\n",
       "</div>"
      ],
      "text/plain": [
       "   id_subj  session  trial  s1_int  s1_dur  s1_seed  inter_stim_delay  s2_int  \\\n",
       "0      2.0      1.0    1.0   10.00  557.14      9.0             500.0    8.18   \n",
       "1      2.0      1.0    2.0    5.38  300.00      4.0             500.0    2.90   \n",
       "2      2.0      1.0    3.0   10.00  450.00     21.0             500.0   15.00   \n",
       "3      2.0      1.0    4.0   10.00  300.00     44.0             500.0   12.22   \n",
       "4      2.0      1.0    5.0   10.00  300.00     47.0             500.0   15.00   \n",
       "\n",
       "   s2_dur  s2_seed  pre_stim_delay  task_type  rewarded_choice  subj_choice  \\\n",
       "0  300.00     15.0           500.0        0.0              1.0          1.0   \n",
       "1  245.46      3.0           500.0        0.0              1.0          1.0   \n",
       "2  300.00     19.0           500.0        0.0              0.0          0.0   \n",
       "3  161.54     47.0           500.0        0.0              0.0          0.0   \n",
       "4  161.54      7.0           500.0        0.0              0.0          0.0   \n",
       "\n",
       "   s1_motor  s2_motor  \n",
       "0       1.0       1.0  \n",
       "1       1.0       1.0  \n",
       "2       1.0       1.0  \n",
       "3       1.0       1.0  \n",
       "4       1.0       1.0  "
      ]
     },
     "execution_count": 49,
     "metadata": {},
     "output_type": "execute_result"
    }
   ],
   "source": [
    "df_temp = pd.DataFrame(s2_info, columns=cols)\n",
    "df_temp.head()"
   ]
  },
  {
   "cell_type": "code",
   "execution_count": 50,
   "metadata": {
    "collapsed": false
   },
   "outputs": [
    {
     "data": {
      "text/plain": [
       "(2912, 16)"
      ]
     },
     "execution_count": 50,
     "metadata": {},
     "output_type": "execute_result"
    }
   ],
   "source": [
    "df_temp.shape"
   ]
  },
  {
   "cell_type": "code",
   "execution_count": 51,
   "metadata": {
    "collapsed": true
   },
   "outputs": [],
   "source": [
    "df_all = df.append(df_temp)"
   ]
  },
  {
   "cell_type": "code",
   "execution_count": 52,
   "metadata": {
    "collapsed": false
   },
   "outputs": [
    {
     "data": {
      "text/plain": [
       "(5483, 16)"
      ]
     },
     "execution_count": 52,
     "metadata": {},
     "output_type": "execute_result"
    }
   ],
   "source": [
    "df_all.shape"
   ]
  },
  {
   "cell_type": "code",
   "execution_count": 53,
   "metadata": {
    "collapsed": false,
    "scrolled": true
   },
   "outputs": [
    {
     "data": {
      "text/html": [
       "<div>\n",
       "<table border=\"1\" class=\"dataframe\">\n",
       "  <thead>\n",
       "    <tr style=\"text-align: right;\">\n",
       "      <th></th>\n",
       "      <th>id_subj</th>\n",
       "      <th>session</th>\n",
       "      <th>trial</th>\n",
       "      <th>s1_int</th>\n",
       "      <th>s1_dur</th>\n",
       "      <th>s1_seed</th>\n",
       "      <th>inter_stim_delay</th>\n",
       "      <th>s2_int</th>\n",
       "      <th>s2_dur</th>\n",
       "      <th>s2_seed</th>\n",
       "      <th>pre_stim_delay</th>\n",
       "      <th>task_type</th>\n",
       "      <th>rewarded_choice</th>\n",
       "      <th>subj_choice</th>\n",
       "      <th>s1_motor</th>\n",
       "      <th>s2_motor</th>\n",
       "    </tr>\n",
       "  </thead>\n",
       "  <tbody>\n",
       "    <tr>\n",
       "      <th>0</th>\n",
       "      <td>1.0</td>\n",
       "      <td>2.0</td>\n",
       "      <td>1.0</td>\n",
       "      <td>10.0</td>\n",
       "      <td>300.00</td>\n",
       "      <td>20.0</td>\n",
       "      <td>500.0</td>\n",
       "      <td>8.18</td>\n",
       "      <td>450.0</td>\n",
       "      <td>27.0</td>\n",
       "      <td>500.0</td>\n",
       "      <td>0.0</td>\n",
       "      <td>1.0</td>\n",
       "      <td>1.0</td>\n",
       "      <td>1.0</td>\n",
       "      <td>1.0</td>\n",
       "    </tr>\n",
       "    <tr>\n",
       "      <th>0</th>\n",
       "      <td>2.0</td>\n",
       "      <td>1.0</td>\n",
       "      <td>1.0</td>\n",
       "      <td>10.0</td>\n",
       "      <td>557.14</td>\n",
       "      <td>9.0</td>\n",
       "      <td>500.0</td>\n",
       "      <td>8.18</td>\n",
       "      <td>300.0</td>\n",
       "      <td>15.0</td>\n",
       "      <td>500.0</td>\n",
       "      <td>0.0</td>\n",
       "      <td>1.0</td>\n",
       "      <td>1.0</td>\n",
       "      <td>1.0</td>\n",
       "      <td>1.0</td>\n",
       "    </tr>\n",
       "  </tbody>\n",
       "</table>\n",
       "</div>"
      ],
      "text/plain": [
       "   id_subj  session  trial  s1_int  s1_dur  s1_seed  inter_stim_delay  s2_int  \\\n",
       "0      1.0      2.0    1.0    10.0  300.00     20.0             500.0    8.18   \n",
       "0      2.0      1.0    1.0    10.0  557.14      9.0             500.0    8.18   \n",
       "\n",
       "   s2_dur  s2_seed  pre_stim_delay  task_type  rewarded_choice  subj_choice  \\\n",
       "0   450.0     27.0           500.0        0.0              1.0          1.0   \n",
       "0   300.0     15.0           500.0        0.0              1.0          1.0   \n",
       "\n",
       "   s1_motor  s2_motor  \n",
       "0       1.0       1.0  \n",
       "0       1.0       1.0  "
      ]
     },
     "execution_count": 53,
     "metadata": {},
     "output_type": "execute_result"
    }
   ],
   "source": [
    "df_all.loc[0]"
   ]
  },
  {
   "cell_type": "code",
   "execution_count": null,
   "metadata": {
    "collapsed": true
   },
   "outputs": [],
   "source": [
    "df_all = df_all.reset_index(drop=True)"
   ]
  },
  {
   "cell_type": "code",
   "execution_count": 58,
   "metadata": {
    "collapsed": false
   },
   "outputs": [],
   "source": [
    "# you can reset in place, gives the same result\n",
    "df_all.reset_index(drop=True, inplace=True)"
   ]
  },
  {
   "cell_type": "code",
   "execution_count": 63,
   "metadata": {
    "collapsed": false
   },
   "outputs": [
    {
     "data": {
      "text/html": [
       "<div>\n",
       "<table border=\"1\" class=\"dataframe\">\n",
       "  <thead>\n",
       "    <tr style=\"text-align: right;\">\n",
       "      <th></th>\n",
       "      <th>id_subj</th>\n",
       "      <th>session</th>\n",
       "      <th>trial</th>\n",
       "      <th>s1_int</th>\n",
       "      <th>s1_dur</th>\n",
       "      <th>s1_seed</th>\n",
       "      <th>inter_stim_delay</th>\n",
       "      <th>s2_int</th>\n",
       "      <th>s2_dur</th>\n",
       "      <th>s2_seed</th>\n",
       "      <th>pre_stim_delay</th>\n",
       "      <th>task_type</th>\n",
       "      <th>rewarded_choice</th>\n",
       "      <th>subj_choice</th>\n",
       "      <th>s1_motor</th>\n",
       "      <th>s2_motor</th>\n",
       "    </tr>\n",
       "  </thead>\n",
       "  <tbody>\n",
       "    <tr>\n",
       "      <th>0</th>\n",
       "      <td>1.0</td>\n",
       "      <td>2.0</td>\n",
       "      <td>1.0</td>\n",
       "      <td>10.00</td>\n",
       "      <td>300.0</td>\n",
       "      <td>20.0</td>\n",
       "      <td>500.0</td>\n",
       "      <td>8.18</td>\n",
       "      <td>450.00</td>\n",
       "      <td>27.0</td>\n",
       "      <td>500.0</td>\n",
       "      <td>0.0</td>\n",
       "      <td>1.0</td>\n",
       "      <td>1.0</td>\n",
       "      <td>1.0</td>\n",
       "      <td>1.0</td>\n",
       "    </tr>\n",
       "    <tr>\n",
       "      <th>1</th>\n",
       "      <td>1.0</td>\n",
       "      <td>2.0</td>\n",
       "      <td>2.0</td>\n",
       "      <td>10.00</td>\n",
       "      <td>300.0</td>\n",
       "      <td>35.0</td>\n",
       "      <td>500.0</td>\n",
       "      <td>5.38</td>\n",
       "      <td>366.67</td>\n",
       "      <td>19.0</td>\n",
       "      <td>500.0</td>\n",
       "      <td>0.0</td>\n",
       "      <td>1.0</td>\n",
       "      <td>1.0</td>\n",
       "      <td>1.0</td>\n",
       "      <td>1.0</td>\n",
       "    </tr>\n",
       "    <tr>\n",
       "      <th>2</th>\n",
       "      <td>1.0</td>\n",
       "      <td>2.0</td>\n",
       "      <td>3.0</td>\n",
       "      <td>5.38</td>\n",
       "      <td>300.0</td>\n",
       "      <td>3.0</td>\n",
       "      <td>500.0</td>\n",
       "      <td>2.90</td>\n",
       "      <td>450.00</td>\n",
       "      <td>46.0</td>\n",
       "      <td>500.0</td>\n",
       "      <td>0.0</td>\n",
       "      <td>1.0</td>\n",
       "      <td>1.0</td>\n",
       "      <td>1.0</td>\n",
       "      <td>1.0</td>\n",
       "    </tr>\n",
       "    <tr>\n",
       "      <th>3</th>\n",
       "      <td>1.0</td>\n",
       "      <td>2.0</td>\n",
       "      <td>4.0</td>\n",
       "      <td>18.57</td>\n",
       "      <td>300.0</td>\n",
       "      <td>45.0</td>\n",
       "      <td>500.0</td>\n",
       "      <td>10.00</td>\n",
       "      <td>200.00</td>\n",
       "      <td>18.0</td>\n",
       "      <td>500.0</td>\n",
       "      <td>0.0</td>\n",
       "      <td>1.0</td>\n",
       "      <td>1.0</td>\n",
       "      <td>1.0</td>\n",
       "      <td>1.0</td>\n",
       "    </tr>\n",
       "    <tr>\n",
       "      <th>4</th>\n",
       "      <td>1.0</td>\n",
       "      <td>2.0</td>\n",
       "      <td>5.0</td>\n",
       "      <td>10.00</td>\n",
       "      <td>300.0</td>\n",
       "      <td>23.0</td>\n",
       "      <td>500.0</td>\n",
       "      <td>10.00</td>\n",
       "      <td>300.00</td>\n",
       "      <td>12.0</td>\n",
       "      <td>500.0</td>\n",
       "      <td>0.0</td>\n",
       "      <td>0.0</td>\n",
       "      <td>0.0</td>\n",
       "      <td>1.0</td>\n",
       "      <td>1.0</td>\n",
       "    </tr>\n",
       "  </tbody>\n",
       "</table>\n",
       "</div>"
      ],
      "text/plain": [
       "   id_subj  session  trial  s1_int  s1_dur  s1_seed  inter_stim_delay  s2_int  \\\n",
       "0      1.0      2.0    1.0   10.00   300.0     20.0             500.0    8.18   \n",
       "1      1.0      2.0    2.0   10.00   300.0     35.0             500.0    5.38   \n",
       "2      1.0      2.0    3.0    5.38   300.0      3.0             500.0    2.90   \n",
       "3      1.0      2.0    4.0   18.57   300.0     45.0             500.0   10.00   \n",
       "4      1.0      2.0    5.0   10.00   300.0     23.0             500.0   10.00   \n",
       "\n",
       "   s2_dur  s2_seed  pre_stim_delay  task_type  rewarded_choice  subj_choice  \\\n",
       "0  450.00     27.0           500.0        0.0              1.0          1.0   \n",
       "1  366.67     19.0           500.0        0.0              1.0          1.0   \n",
       "2  450.00     46.0           500.0        0.0              1.0          1.0   \n",
       "3  200.00     18.0           500.0        0.0              1.0          1.0   \n",
       "4  300.00     12.0           500.0        0.0              0.0          0.0   \n",
       "\n",
       "   s1_motor  s2_motor  \n",
       "0       1.0       1.0  \n",
       "1       1.0       1.0  \n",
       "2       1.0       1.0  \n",
       "3       1.0       1.0  \n",
       "4       1.0       1.0  "
      ]
     },
     "execution_count": 63,
     "metadata": {},
     "output_type": "execute_result"
    }
   ],
   "source": [
    "df_all.head()"
   ]
  },
  {
   "cell_type": "code",
   "execution_count": 62,
   "metadata": {
    "collapsed": false
   },
   "outputs": [
    {
     "data": {
      "text/plain": [
       "0    1.0\n",
       "1    1.0\n",
       "2    1.0\n",
       "3    1.0\n",
       "4    1.0\n",
       "Name: id_subj, dtype: float64"
      ]
     },
     "execution_count": 62,
     "metadata": {},
     "output_type": "execute_result"
    }
   ],
   "source": [
    "df_all['id_subj'].head()"
   ]
  },
  {
   "cell_type": "code",
   "execution_count": 61,
   "metadata": {
    "collapsed": false
   },
   "outputs": [
    {
     "data": {
      "text/plain": [
       "array([ 1.,  2.])"
      ]
     },
     "execution_count": 61,
     "metadata": {},
     "output_type": "execute_result"
    }
   ],
   "source": [
    "df_all['id_subj'].unique()"
   ]
  },
  {
   "cell_type": "code",
   "execution_count": 67,
   "metadata": {
    "collapsed": true
   },
   "outputs": [],
   "source": [
    "df_all['correct'] = df_all['rewarded_choice'] == df_all['subj_choice']"
   ]
  },
  {
   "cell_type": "code",
   "execution_count": 70,
   "metadata": {
    "collapsed": false
   },
   "outputs": [
    {
     "data": {
      "text/plain": [
       "0.83366770016414371"
      ]
     },
     "execution_count": 70,
     "metadata": {},
     "output_type": "execute_result"
    }
   ],
   "source": [
    "df_all['correct'].mean()"
   ]
  },
  {
   "cell_type": "code",
   "execution_count": 79,
   "metadata": {
    "collapsed": false
   },
   "outputs": [
    {
     "data": {
      "text/plain": [
       "0.76662777129521587"
      ]
     },
     "execution_count": 79,
     "metadata": {},
     "output_type": "execute_result"
    }
   ],
   "source": [
    "df_all.loc[df_all['id_subj']==1,'correct'].mean()"
   ]
  },
  {
   "cell_type": "code",
   "execution_count": 85,
   "metadata": {
    "collapsed": false
   },
   "outputs": [
    {
     "data": {
      "text/plain": [
       "id_subj\n",
       "1.0    0.766628\n",
       "2.0    0.892857\n",
       "Name: correct, dtype: float64"
      ]
     },
     "execution_count": 85,
     "metadata": {},
     "output_type": "execute_result"
    }
   ],
   "source": [
    "df_all.groupby('id_subj')['correct'].mean()"
   ]
  },
  {
   "cell_type": "code",
   "execution_count": 86,
   "metadata": {
    "collapsed": false
   },
   "outputs": [
    {
     "data": {
      "text/plain": [
       "id_subj  session\n",
       "1.0      1.0        0.756868\n",
       "         2.0        0.779372\n",
       "2.0      1.0        0.877060\n",
       "         2.0        0.908654\n",
       "Name: correct, dtype: float64"
      ]
     },
     "execution_count": 86,
     "metadata": {},
     "output_type": "execute_result"
    }
   ],
   "source": [
    "df_all.groupby(['id_subj','session'])['correct'].mean()"
   ]
  },
  {
   "cell_type": "code",
   "execution_count": 84,
   "metadata": {
    "collapsed": false
   },
   "outputs": [
    {
     "data": {
      "text/plain": [
       "id_subj  session  task_type\n",
       "1.0      1.0      1.0          0.756868\n",
       "         2.0      0.0          0.779372\n",
       "2.0      1.0      0.0          0.877060\n",
       "         2.0      1.0          0.908654\n",
       "Name: correct, dtype: float64"
      ]
     },
     "execution_count": 84,
     "metadata": {},
     "output_type": "execute_result"
    }
   ],
   "source": [
    "df_all.groupby(['id_subj','session','task_type'])['correct'].mean()"
   ]
  },
  {
   "cell_type": "code",
   "execution_count": 88,
   "metadata": {
    "collapsed": false
   },
   "outputs": [
    {
     "data": {
      "text/plain": [
       "{0: 'intensity', 1: 'duration'}"
      ]
     },
     "execution_count": 88,
     "metadata": {},
     "output_type": "execute_result"
    }
   ],
   "source": [
    "{0:'intensity', 1:'duration'}"
   ]
  },
  {
   "cell_type": "code",
   "execution_count": 90,
   "metadata": {
    "collapsed": false
   },
   "outputs": [],
   "source": [
    "df_all['task_type'].replace({0:'intensity', 1:'duration'}, inplace = True)"
   ]
  },
  {
   "cell_type": "code",
   "execution_count": 91,
   "metadata": {
    "collapsed": false
   },
   "outputs": [
    {
     "data": {
      "text/html": [
       "<div>\n",
       "<table border=\"1\" class=\"dataframe\">\n",
       "  <thead>\n",
       "    <tr style=\"text-align: right;\">\n",
       "      <th></th>\n",
       "      <th>id_subj</th>\n",
       "      <th>session</th>\n",
       "      <th>trial</th>\n",
       "      <th>s1_int</th>\n",
       "      <th>s1_dur</th>\n",
       "      <th>s1_seed</th>\n",
       "      <th>inter_stim_delay</th>\n",
       "      <th>s2_int</th>\n",
       "      <th>s2_dur</th>\n",
       "      <th>s2_seed</th>\n",
       "      <th>pre_stim_delay</th>\n",
       "      <th>task_type</th>\n",
       "      <th>rewarded_choice</th>\n",
       "      <th>subj_choice</th>\n",
       "      <th>s1_motor</th>\n",
       "      <th>s2_motor</th>\n",
       "      <th>correct</th>\n",
       "    </tr>\n",
       "  </thead>\n",
       "  <tbody>\n",
       "    <tr>\n",
       "      <th>0</th>\n",
       "      <td>1.0</td>\n",
       "      <td>2.0</td>\n",
       "      <td>1.0</td>\n",
       "      <td>10.00</td>\n",
       "      <td>300.0</td>\n",
       "      <td>20.0</td>\n",
       "      <td>500.0</td>\n",
       "      <td>8.18</td>\n",
       "      <td>450.00</td>\n",
       "      <td>27.0</td>\n",
       "      <td>500.0</td>\n",
       "      <td>intensity</td>\n",
       "      <td>1.0</td>\n",
       "      <td>1.0</td>\n",
       "      <td>1.0</td>\n",
       "      <td>1.0</td>\n",
       "      <td>True</td>\n",
       "    </tr>\n",
       "    <tr>\n",
       "      <th>1</th>\n",
       "      <td>1.0</td>\n",
       "      <td>2.0</td>\n",
       "      <td>2.0</td>\n",
       "      <td>10.00</td>\n",
       "      <td>300.0</td>\n",
       "      <td>35.0</td>\n",
       "      <td>500.0</td>\n",
       "      <td>5.38</td>\n",
       "      <td>366.67</td>\n",
       "      <td>19.0</td>\n",
       "      <td>500.0</td>\n",
       "      <td>intensity</td>\n",
       "      <td>1.0</td>\n",
       "      <td>1.0</td>\n",
       "      <td>1.0</td>\n",
       "      <td>1.0</td>\n",
       "      <td>True</td>\n",
       "    </tr>\n",
       "    <tr>\n",
       "      <th>2</th>\n",
       "      <td>1.0</td>\n",
       "      <td>2.0</td>\n",
       "      <td>3.0</td>\n",
       "      <td>5.38</td>\n",
       "      <td>300.0</td>\n",
       "      <td>3.0</td>\n",
       "      <td>500.0</td>\n",
       "      <td>2.90</td>\n",
       "      <td>450.00</td>\n",
       "      <td>46.0</td>\n",
       "      <td>500.0</td>\n",
       "      <td>intensity</td>\n",
       "      <td>1.0</td>\n",
       "      <td>1.0</td>\n",
       "      <td>1.0</td>\n",
       "      <td>1.0</td>\n",
       "      <td>True</td>\n",
       "    </tr>\n",
       "    <tr>\n",
       "      <th>3</th>\n",
       "      <td>1.0</td>\n",
       "      <td>2.0</td>\n",
       "      <td>4.0</td>\n",
       "      <td>18.57</td>\n",
       "      <td>300.0</td>\n",
       "      <td>45.0</td>\n",
       "      <td>500.0</td>\n",
       "      <td>10.00</td>\n",
       "      <td>200.00</td>\n",
       "      <td>18.0</td>\n",
       "      <td>500.0</td>\n",
       "      <td>intensity</td>\n",
       "      <td>1.0</td>\n",
       "      <td>1.0</td>\n",
       "      <td>1.0</td>\n",
       "      <td>1.0</td>\n",
       "      <td>True</td>\n",
       "    </tr>\n",
       "    <tr>\n",
       "      <th>4</th>\n",
       "      <td>1.0</td>\n",
       "      <td>2.0</td>\n",
       "      <td>5.0</td>\n",
       "      <td>10.00</td>\n",
       "      <td>300.0</td>\n",
       "      <td>23.0</td>\n",
       "      <td>500.0</td>\n",
       "      <td>10.00</td>\n",
       "      <td>300.00</td>\n",
       "      <td>12.0</td>\n",
       "      <td>500.0</td>\n",
       "      <td>intensity</td>\n",
       "      <td>0.0</td>\n",
       "      <td>0.0</td>\n",
       "      <td>1.0</td>\n",
       "      <td>1.0</td>\n",
       "      <td>True</td>\n",
       "    </tr>\n",
       "  </tbody>\n",
       "</table>\n",
       "</div>"
      ],
      "text/plain": [
       "   id_subj  session  trial  s1_int  s1_dur  s1_seed  inter_stim_delay  s2_int  \\\n",
       "0      1.0      2.0    1.0   10.00   300.0     20.0             500.0    8.18   \n",
       "1      1.0      2.0    2.0   10.00   300.0     35.0             500.0    5.38   \n",
       "2      1.0      2.0    3.0    5.38   300.0      3.0             500.0    2.90   \n",
       "3      1.0      2.0    4.0   18.57   300.0     45.0             500.0   10.00   \n",
       "4      1.0      2.0    5.0   10.00   300.0     23.0             500.0   10.00   \n",
       "\n",
       "   s2_dur  s2_seed  pre_stim_delay  task_type  rewarded_choice  subj_choice  \\\n",
       "0  450.00     27.0           500.0  intensity              1.0          1.0   \n",
       "1  366.67     19.0           500.0  intensity              1.0          1.0   \n",
       "2  450.00     46.0           500.0  intensity              1.0          1.0   \n",
       "3  200.00     18.0           500.0  intensity              1.0          1.0   \n",
       "4  300.00     12.0           500.0  intensity              0.0          0.0   \n",
       "\n",
       "   s1_motor  s2_motor correct  \n",
       "0       1.0       1.0    True  \n",
       "1       1.0       1.0    True  \n",
       "2       1.0       1.0    True  \n",
       "3       1.0       1.0    True  \n",
       "4       1.0       1.0    True  "
      ]
     },
     "execution_count": 91,
     "metadata": {},
     "output_type": "execute_result"
    }
   ],
   "source": [
    "df_all.head()"
   ]
  },
  {
   "cell_type": "code",
   "execution_count": 92,
   "metadata": {
    "collapsed": false
   },
   "outputs": [
    {
     "data": {
      "text/plain": [
       "task_type\n",
       "duration     0.832761\n",
       "intensity    0.834695\n",
       "Name: correct, dtype: float64"
      ]
     },
     "execution_count": 92,
     "metadata": {},
     "output_type": "execute_result"
    }
   ],
   "source": [
    "df_all.groupby('task_type')['correct'].mean()"
   ]
  },
  {
   "cell_type": "code",
   "execution_count": 93,
   "metadata": {
    "collapsed": false
   },
   "outputs": [
    {
     "data": {
      "text/plain": [
       "array([  300.  ,   245.46,   366.67,   161.54,   200.  ,   450.  ,\n",
       "         557.14,    86.98,  1034.69])"
      ]
     },
     "execution_count": 93,
     "metadata": {},
     "output_type": "execute_result"
    }
   ],
   "source": [
    "df_all['s1_dur'].unique()"
   ]
  },
  {
   "cell_type": "code",
   "execution_count": 95,
   "metadata": {
    "collapsed": false
   },
   "outputs": [
    {
     "data": {
      "text/plain": [
       "s1_dur\n",
       "86.98       224\n",
       "161.54      630\n",
       "200.00      184\n",
       "245.46      182\n",
       "300.00     3036\n",
       "366.67      183\n",
       "450.00      191\n",
       "557.14      629\n",
       "1034.69     224\n",
       "Name: correct, dtype: int64"
      ]
     },
     "execution_count": 95,
     "metadata": {},
     "output_type": "execute_result"
    }
   ],
   "source": [
    "df_all.groupby('s1_dur')['correct'].count()"
   ]
  },
  {
   "cell_type": "code",
   "execution_count": 98,
   "metadata": {
    "collapsed": false
   },
   "outputs": [
    {
     "data": {
      "text/plain": [
       "s1_dur\n",
       "86.98      0.839286\n",
       "161.54     0.888889\n",
       "200.00     0.826087\n",
       "245.46     0.813187\n",
       "300.00     0.809289\n",
       "366.67     0.890710\n",
       "450.00     0.832461\n",
       "557.14     0.899841\n",
       "1034.69    0.794643\n",
       "Name: correct, dtype: float64"
      ]
     },
     "execution_count": 98,
     "metadata": {},
     "output_type": "execute_result"
    }
   ],
   "source": [
    "s1_dur_perf = df_all.groupby('s1_dur')['correct'].mean()\n",
    "s1_dur_perf"
   ]
  },
  {
   "cell_type": "code",
   "execution_count": 97,
   "metadata": {
    "collapsed": true
   },
   "outputs": [],
   "source": [
    "import matplotlib.pyplot as plt\n",
    "%matplotlib inline"
   ]
  },
  {
   "cell_type": "code",
   "execution_count": 99,
   "metadata": {
    "collapsed": false
   },
   "outputs": [
    {
     "data": {
      "text/plain": [
       "[<matplotlib.lines.Line2D at 0x1944c0dd6d8>]"
      ]
     },
     "execution_count": 99,
     "metadata": {},
     "output_type": "execute_result"
    },
    {
     "data": {
      "image/png": "[encoded data removed]",
      "text/plain": [
       "<matplotlib.figure.Figure at 0x1944a98a358>"
      ]
     },
     "metadata": {},
     "output_type": "display_data"
    }
   ],
   "source": [
    "plt.plot(s1_dur_perf)"
   ]
  },
  {
   "cell_type": "code",
   "execution_count": 100,
   "metadata": {
    "collapsed": false
   },
   "outputs": [
    {
     "data": {
      "text/plain": [
       "s1_int\n",
       "2.90     0.797927\n",
       "5.38     0.879675\n",
       "6.67     0.836538\n",
       "8.18     0.850962\n",
       "10.00    0.819435\n",
       "12.22    0.865385\n",
       "15.00    0.817308\n",
       "18.57    0.892437\n",
       "34.49    0.732673\n",
       "Name: correct, dtype: float64"
      ]
     },
     "execution_count": 100,
     "metadata": {},
     "output_type": "execute_result"
    }
   ],
   "source": [
    "s1_int_perf = df_all.groupby('s1_int')['correct'].mean()\n",
    "s1_int_perf"
   ]
  },
  {
   "cell_type": "code",
   "execution_count": 101,
   "metadata": {
    "collapsed": false
   },
   "outputs": [
    {
     "data": {
      "text/plain": [
       "[<matplotlib.lines.Line2D at 0x1944c29bd30>]"
      ]
     },
     "execution_count": 101,
     "metadata": {},
     "output_type": "execute_result"
    },
    {
     "data": {
      "image/png": "[encoded data removed]",
      "text/plain": [
       "<matplotlib.figure.Figure at 0x1944c0a0780>"
      ]
     },
     "metadata": {},
     "output_type": "display_data"
    }
   ],
   "source": [
    "plt.plot(s1_int_perf, marker='o')"
   ]
  },
  {
   "cell_type": "code",
   "execution_count": 102,
   "metadata": {
    "collapsed": false
   },
   "outputs": [
    {
     "data": {
      "text/plain": [
       "[<matplotlib.lines.Line2D at 0x1944c349c50>]"
      ]
     },
     "execution_count": 102,
     "metadata": {},
     "output_type": "execute_result"
    },
    {
     "data": {
      "image/png": "[encoded data removed]",
      "text/plain": [
       "<matplotlib.figure.Figure at 0x1944c2abdd8>"
      ]
     },
     "metadata": {},
     "output_type": "display_data"
    }
   ],
   "source": [
    "s2_dur_perf = df_all.groupby('s2_dur')['correct'].mean()\n",
    "plt.plot(s2_dur_perf, marker='o')"
   ]
  },
  {
   "cell_type": "code",
   "execution_count": 103,
   "metadata": {
    "collapsed": false
   },
   "outputs": [
    {
     "data": {
      "text/plain": [
       "[<matplotlib.lines.Line2D at 0x1944c3e26a0>]"
      ]
     },
     "execution_count": 103,
     "metadata": {},
     "output_type": "execute_result"
    },
    {
     "data": {
      "image/png": "[encoded data removed]",
      "text/plain": [
       "<matplotlib.figure.Figure at 0x1944c2926d8>"
      ]
     },
     "metadata": {},
     "output_type": "display_data"
    }
   ],
   "source": [
    "s2_int_perf = df_all.groupby('s2_int')['correct'].mean()\n",
    "plt.plot(s2_int_perf, marker='o')"
   ]
  },
  {
   "cell_type": "code",
   "execution_count": 105,
   "metadata": {
    "collapsed": false
   },
   "outputs": [
    {
     "data": {
      "text/plain": [
       "task_type  s2_int\n",
       "duration   5.38      0.759615\n",
       "           6.67      0.822115\n",
       "           8.18      0.822115\n",
       "           10.00     0.839543\n",
       "           12.22     0.812500\n",
       "           15.00     0.860577\n",
       "           18.57     0.865385\n",
       "intensity  2.90      0.917874\n",
       "           5.38      0.858974\n",
       "           6.67      0.769634\n",
       "           8.18      0.661692\n",
       "           10.00     0.789386\n",
       "           12.22     0.815000\n",
       "           15.00     0.943005\n",
       "           18.57     0.858209\n",
       "           34.49     0.951087\n",
       "Name: correct, dtype: float64"
      ]
     },
     "execution_count": 105,
     "metadata": {},
     "output_type": "execute_result"
    }
   ],
   "source": [
    "perf = df_all.groupby(['task_type','s2_int'])['correct'].mean()\n",
    "perf"
   ]
  },
  {
   "cell_type": "code",
   "execution_count": 115,
   "metadata": {
    "collapsed": false
   },
   "outputs": [
    {
     "data": {
      "text/plain": [
       "s2_int\n",
       "2.90     0.917874\n",
       "5.38     0.858974\n",
       "6.67     0.769634\n",
       "8.18     0.661692\n",
       "10.00    0.789386\n",
       "12.22    0.815000\n",
       "15.00    0.943005\n",
       "18.57    0.858209\n",
       "34.49    0.951087\n",
       "Name: correct, dtype: float64"
      ]
     },
     "execution_count": 115,
     "metadata": {},
     "output_type": "execute_result"
    }
   ],
   "source": [
    "# getting values from the 1st level of MultiIndex\n",
    "perf.loc['intensity']"
   ]
  },
  {
   "cell_type": "code",
   "execution_count": 116,
   "metadata": {
    "collapsed": false
   },
   "outputs": [
    {
     "data": {
      "text/plain": [
       "0.78938640132669979"
      ]
     },
     "execution_count": 116,
     "metadata": {},
     "output_type": "execute_result"
    }
   ],
   "source": [
    "# indexing through both levels (pass as a tuple)\n",
    "perf.loc[('intensity',10.0)]"
   ]
  },
  {
   "cell_type": "code",
   "execution_count": 118,
   "metadata": {
    "collapsed": false
   },
   "outputs": [
    {
     "data": {
      "text/plain": [
       "[<matplotlib.lines.Line2D at 0x1944c4fe978>]"
      ]
     },
     "execution_count": 118,
     "metadata": {},
     "output_type": "execute_result"
    },
    {
     "data": {
      "image/png": "[encoded data removed]",
      "text/plain": [
       "<matplotlib.figure.Figure at 0x1944c49c438>"
      ]
     },
     "metadata": {},
     "output_type": "display_data"
    }
   ],
   "source": [
    "plt.plot(perf.loc['intensity'], marker='o')"
   ]
  },
  {
   "cell_type": "code",
   "execution_count": 119,
   "metadata": {
    "collapsed": false
   },
   "outputs": [
    {
     "data": {
      "text/plain": [
       "task_type  s2_dur \n",
       "duration   86.98      0.906250\n",
       "           161.54     0.870536\n",
       "           200.00     0.839286\n",
       "           245.46     0.656250\n",
       "           300.00     0.772321\n",
       "           366.67     0.776786\n",
       "           450.00     0.861607\n",
       "           557.14     0.870536\n",
       "           1034.69    0.986607\n",
       "intensity  161.54     0.816216\n",
       "           200.00     0.825137\n",
       "           245.46     0.825397\n",
       "           300.00     0.832991\n",
       "           366.67     0.851064\n",
       "           450.00     0.853261\n",
       "           557.14     0.850829\n",
       "Name: correct, dtype: float64"
      ]
     },
     "execution_count": 119,
     "metadata": {},
     "output_type": "execute_result"
    }
   ],
   "source": [
    "perf_s2_dur = df_all.groupby(['task_type','s2_dur'])['correct'].mean()\n",
    "perf_s2_dur"
   ]
  },
  {
   "cell_type": "code",
   "execution_count": 123,
   "metadata": {
    "collapsed": false
   },
   "outputs": [
    {
     "data": {
      "image/png": "[encoded data removed]",
      "text/plain": [
       "<matplotlib.figure.Figure at 0x1944c707400>"
      ]
     },
     "metadata": {},
     "output_type": "display_data"
    }
   ],
   "source": [
    "plt.plot(perf_s2_dur.loc['duration'], marker='o')\n",
    "plt.xscale('log')"
   ]
  },
  {
   "cell_type": "code",
   "execution_count": 125,
   "metadata": {
    "collapsed": false
   },
   "outputs": [
    {
     "data": {
      "text/html": [
       "<div>\n",
       "<table border=\"1\" class=\"dataframe\">\n",
       "  <thead>\n",
       "    <tr style=\"text-align: right;\">\n",
       "      <th></th>\n",
       "      <th>Unnamed: 0</th>\n",
       "      <th>Gender</th>\n",
       "      <th>FSIQ</th>\n",
       "      <th>VIQ</th>\n",
       "      <th>PIQ</th>\n",
       "      <th>Weight</th>\n",
       "      <th>Height</th>\n",
       "      <th>MRI_Count</th>\n",
       "    </tr>\n",
       "  </thead>\n",
       "  <tbody>\n",
       "    <tr>\n",
       "      <th>0</th>\n",
       "      <td>1</td>\n",
       "      <td>Female</td>\n",
       "      <td>133</td>\n",
       "      <td>132</td>\n",
       "      <td>124</td>\n",
       "      <td>118</td>\n",
       "      <td>64.5</td>\n",
       "      <td>816932</td>\n",
       "    </tr>\n",
       "    <tr>\n",
       "      <th>1</th>\n",
       "      <td>2</td>\n",
       "      <td>Male</td>\n",
       "      <td>140</td>\n",
       "      <td>150</td>\n",
       "      <td>124</td>\n",
       "      <td>.</td>\n",
       "      <td>72.5</td>\n",
       "      <td>1001121</td>\n",
       "    </tr>\n",
       "    <tr>\n",
       "      <th>2</th>\n",
       "      <td>3</td>\n",
       "      <td>Male</td>\n",
       "      <td>139</td>\n",
       "      <td>123</td>\n",
       "      <td>150</td>\n",
       "      <td>143</td>\n",
       "      <td>73.3</td>\n",
       "      <td>1038437</td>\n",
       "    </tr>\n",
       "    <tr>\n",
       "      <th>3</th>\n",
       "      <td>4</td>\n",
       "      <td>Male</td>\n",
       "      <td>133</td>\n",
       "      <td>129</td>\n",
       "      <td>128</td>\n",
       "      <td>172</td>\n",
       "      <td>68.8</td>\n",
       "      <td>965353</td>\n",
       "    </tr>\n",
       "    <tr>\n",
       "      <th>4</th>\n",
       "      <td>5</td>\n",
       "      <td>Female</td>\n",
       "      <td>137</td>\n",
       "      <td>132</td>\n",
       "      <td>134</td>\n",
       "      <td>147</td>\n",
       "      <td>65.0</td>\n",
       "      <td>951545</td>\n",
       "    </tr>\n",
       "    <tr>\n",
       "      <th>5</th>\n",
       "      <td>6</td>\n",
       "      <td>Female</td>\n",
       "      <td>99</td>\n",
       "      <td>90</td>\n",
       "      <td>110</td>\n",
       "      <td>146</td>\n",
       "      <td>69.0</td>\n",
       "      <td>928799</td>\n",
       "    </tr>\n",
       "    <tr>\n",
       "      <th>6</th>\n",
       "      <td>7</td>\n",
       "      <td>Female</td>\n",
       "      <td>138</td>\n",
       "      <td>136</td>\n",
       "      <td>131</td>\n",
       "      <td>138</td>\n",
       "      <td>64.5</td>\n",
       "      <td>991305</td>\n",
       "    </tr>\n",
       "    <tr>\n",
       "      <th>7</th>\n",
       "      <td>8</td>\n",
       "      <td>Female</td>\n",
       "      <td>92</td>\n",
       "      <td>90</td>\n",
       "      <td>98</td>\n",
       "      <td>175</td>\n",
       "      <td>66.0</td>\n",
       "      <td>854258</td>\n",
       "    </tr>\n",
       "    <tr>\n",
       "      <th>8</th>\n",
       "      <td>9</td>\n",
       "      <td>Male</td>\n",
       "      <td>89</td>\n",
       "      <td>93</td>\n",
       "      <td>84</td>\n",
       "      <td>134</td>\n",
       "      <td>66.3</td>\n",
       "      <td>904858</td>\n",
       "    </tr>\n",
       "    <tr>\n",
       "      <th>9</th>\n",
       "      <td>10</td>\n",
       "      <td>Male</td>\n",
       "      <td>133</td>\n",
       "      <td>114</td>\n",
       "      <td>147</td>\n",
       "      <td>172</td>\n",
       "      <td>68.8</td>\n",
       "      <td>955466</td>\n",
       "    </tr>\n",
       "    <tr>\n",
       "      <th>10</th>\n",
       "      <td>11</td>\n",
       "      <td>Female</td>\n",
       "      <td>132</td>\n",
       "      <td>129</td>\n",
       "      <td>124</td>\n",
       "      <td>118</td>\n",
       "      <td>64.5</td>\n",
       "      <td>833868</td>\n",
       "    </tr>\n",
       "    <tr>\n",
       "      <th>11</th>\n",
       "      <td>12</td>\n",
       "      <td>Male</td>\n",
       "      <td>141</td>\n",
       "      <td>150</td>\n",
       "      <td>128</td>\n",
       "      <td>151</td>\n",
       "      <td>70.0</td>\n",
       "      <td>1079549</td>\n",
       "    </tr>\n",
       "    <tr>\n",
       "      <th>12</th>\n",
       "      <td>13</td>\n",
       "      <td>Male</td>\n",
       "      <td>135</td>\n",
       "      <td>129</td>\n",
       "      <td>124</td>\n",
       "      <td>155</td>\n",
       "      <td>69.0</td>\n",
       "      <td>924059</td>\n",
       "    </tr>\n",
       "    <tr>\n",
       "      <th>13</th>\n",
       "      <td>14</td>\n",
       "      <td>Female</td>\n",
       "      <td>140</td>\n",
       "      <td>120</td>\n",
       "      <td>147</td>\n",
       "      <td>155</td>\n",
       "      <td>70.5</td>\n",
       "      <td>856472</td>\n",
       "    </tr>\n",
       "    <tr>\n",
       "      <th>14</th>\n",
       "      <td>15</td>\n",
       "      <td>Female</td>\n",
       "      <td>96</td>\n",
       "      <td>100</td>\n",
       "      <td>90</td>\n",
       "      <td>146</td>\n",
       "      <td>66.0</td>\n",
       "      <td>878897</td>\n",
       "    </tr>\n",
       "    <tr>\n",
       "      <th>15</th>\n",
       "      <td>16</td>\n",
       "      <td>Female</td>\n",
       "      <td>83</td>\n",
       "      <td>71</td>\n",
       "      <td>96</td>\n",
       "      <td>135</td>\n",
       "      <td>68.0</td>\n",
       "      <td>865363</td>\n",
       "    </tr>\n",
       "    <tr>\n",
       "      <th>16</th>\n",
       "      <td>17</td>\n",
       "      <td>Female</td>\n",
       "      <td>132</td>\n",
       "      <td>132</td>\n",
       "      <td>120</td>\n",
       "      <td>127</td>\n",
       "      <td>68.5</td>\n",
       "      <td>852244</td>\n",
       "    </tr>\n",
       "    <tr>\n",
       "      <th>17</th>\n",
       "      <td>18</td>\n",
       "      <td>Male</td>\n",
       "      <td>100</td>\n",
       "      <td>96</td>\n",
       "      <td>102</td>\n",
       "      <td>178</td>\n",
       "      <td>73.5</td>\n",
       "      <td>945088</td>\n",
       "    </tr>\n",
       "    <tr>\n",
       "      <th>18</th>\n",
       "      <td>19</td>\n",
       "      <td>Female</td>\n",
       "      <td>101</td>\n",
       "      <td>112</td>\n",
       "      <td>84</td>\n",
       "      <td>136</td>\n",
       "      <td>66.3</td>\n",
       "      <td>808020</td>\n",
       "    </tr>\n",
       "    <tr>\n",
       "      <th>19</th>\n",
       "      <td>20</td>\n",
       "      <td>Male</td>\n",
       "      <td>80</td>\n",
       "      <td>77</td>\n",
       "      <td>86</td>\n",
       "      <td>180</td>\n",
       "      <td>70.0</td>\n",
       "      <td>889083</td>\n",
       "    </tr>\n",
       "    <tr>\n",
       "      <th>20</th>\n",
       "      <td>21</td>\n",
       "      <td>Male</td>\n",
       "      <td>83</td>\n",
       "      <td>83</td>\n",
       "      <td>86</td>\n",
       "      <td>.</td>\n",
       "      <td>.</td>\n",
       "      <td>892420</td>\n",
       "    </tr>\n",
       "    <tr>\n",
       "      <th>21</th>\n",
       "      <td>22</td>\n",
       "      <td>Male</td>\n",
       "      <td>97</td>\n",
       "      <td>107</td>\n",
       "      <td>84</td>\n",
       "      <td>186</td>\n",
       "      <td>76.5</td>\n",
       "      <td>905940</td>\n",
       "    </tr>\n",
       "    <tr>\n",
       "      <th>22</th>\n",
       "      <td>23</td>\n",
       "      <td>Female</td>\n",
       "      <td>135</td>\n",
       "      <td>129</td>\n",
       "      <td>134</td>\n",
       "      <td>122</td>\n",
       "      <td>62.0</td>\n",
       "      <td>790619</td>\n",
       "    </tr>\n",
       "    <tr>\n",
       "      <th>23</th>\n",
       "      <td>24</td>\n",
       "      <td>Male</td>\n",
       "      <td>139</td>\n",
       "      <td>145</td>\n",
       "      <td>128</td>\n",
       "      <td>132</td>\n",
       "      <td>68.0</td>\n",
       "      <td>955003</td>\n",
       "    </tr>\n",
       "    <tr>\n",
       "      <th>24</th>\n",
       "      <td>25</td>\n",
       "      <td>Female</td>\n",
       "      <td>91</td>\n",
       "      <td>86</td>\n",
       "      <td>102</td>\n",
       "      <td>114</td>\n",
       "      <td>63.0</td>\n",
       "      <td>831772</td>\n",
       "    </tr>\n",
       "    <tr>\n",
       "      <th>25</th>\n",
       "      <td>26</td>\n",
       "      <td>Male</td>\n",
       "      <td>141</td>\n",
       "      <td>145</td>\n",
       "      <td>131</td>\n",
       "      <td>171</td>\n",
       "      <td>72.0</td>\n",
       "      <td>935494</td>\n",
       "    </tr>\n",
       "    <tr>\n",
       "      <th>26</th>\n",
       "      <td>27</td>\n",
       "      <td>Female</td>\n",
       "      <td>85</td>\n",
       "      <td>90</td>\n",
       "      <td>84</td>\n",
       "      <td>140</td>\n",
       "      <td>68.0</td>\n",
       "      <td>798612</td>\n",
       "    </tr>\n",
       "    <tr>\n",
       "      <th>27</th>\n",
       "      <td>28</td>\n",
       "      <td>Male</td>\n",
       "      <td>103</td>\n",
       "      <td>96</td>\n",
       "      <td>110</td>\n",
       "      <td>187</td>\n",
       "      <td>77.0</td>\n",
       "      <td>1062462</td>\n",
       "    </tr>\n",
       "    <tr>\n",
       "      <th>28</th>\n",
       "      <td>29</td>\n",
       "      <td>Female</td>\n",
       "      <td>77</td>\n",
       "      <td>83</td>\n",
       "      <td>72</td>\n",
       "      <td>106</td>\n",
       "      <td>63.0</td>\n",
       "      <td>793549</td>\n",
       "    </tr>\n",
       "    <tr>\n",
       "      <th>29</th>\n",
       "      <td>30</td>\n",
       "      <td>Female</td>\n",
       "      <td>130</td>\n",
       "      <td>126</td>\n",
       "      <td>124</td>\n",
       "      <td>159</td>\n",
       "      <td>66.5</td>\n",
       "      <td>866662</td>\n",
       "    </tr>\n",
       "    <tr>\n",
       "      <th>30</th>\n",
       "      <td>31</td>\n",
       "      <td>Female</td>\n",
       "      <td>133</td>\n",
       "      <td>126</td>\n",
       "      <td>132</td>\n",
       "      <td>127</td>\n",
       "      <td>62.5</td>\n",
       "      <td>857782</td>\n",
       "    </tr>\n",
       "    <tr>\n",
       "      <th>31</th>\n",
       "      <td>32</td>\n",
       "      <td>Male</td>\n",
       "      <td>144</td>\n",
       "      <td>145</td>\n",
       "      <td>137</td>\n",
       "      <td>191</td>\n",
       "      <td>67.0</td>\n",
       "      <td>949589</td>\n",
       "    </tr>\n",
       "    <tr>\n",
       "      <th>32</th>\n",
       "      <td>33</td>\n",
       "      <td>Male</td>\n",
       "      <td>103</td>\n",
       "      <td>96</td>\n",
       "      <td>110</td>\n",
       "      <td>192</td>\n",
       "      <td>75.5</td>\n",
       "      <td>997925</td>\n",
       "    </tr>\n",
       "    <tr>\n",
       "      <th>33</th>\n",
       "      <td>34</td>\n",
       "      <td>Male</td>\n",
       "      <td>90</td>\n",
       "      <td>96</td>\n",
       "      <td>86</td>\n",
       "      <td>181</td>\n",
       "      <td>69.0</td>\n",
       "      <td>879987</td>\n",
       "    </tr>\n",
       "    <tr>\n",
       "      <th>34</th>\n",
       "      <td>35</td>\n",
       "      <td>Female</td>\n",
       "      <td>83</td>\n",
       "      <td>90</td>\n",
       "      <td>81</td>\n",
       "      <td>143</td>\n",
       "      <td>66.5</td>\n",
       "      <td>834344</td>\n",
       "    </tr>\n",
       "    <tr>\n",
       "      <th>35</th>\n",
       "      <td>36</td>\n",
       "      <td>Female</td>\n",
       "      <td>133</td>\n",
       "      <td>129</td>\n",
       "      <td>128</td>\n",
       "      <td>153</td>\n",
       "      <td>66.5</td>\n",
       "      <td>948066</td>\n",
       "    </tr>\n",
       "    <tr>\n",
       "      <th>36</th>\n",
       "      <td>37</td>\n",
       "      <td>Male</td>\n",
       "      <td>140</td>\n",
       "      <td>150</td>\n",
       "      <td>124</td>\n",
       "      <td>144</td>\n",
       "      <td>70.5</td>\n",
       "      <td>949395</td>\n",
       "    </tr>\n",
       "    <tr>\n",
       "      <th>37</th>\n",
       "      <td>38</td>\n",
       "      <td>Female</td>\n",
       "      <td>88</td>\n",
       "      <td>86</td>\n",
       "      <td>94</td>\n",
       "      <td>139</td>\n",
       "      <td>64.5</td>\n",
       "      <td>893983</td>\n",
       "    </tr>\n",
       "    <tr>\n",
       "      <th>38</th>\n",
       "      <td>39</td>\n",
       "      <td>Male</td>\n",
       "      <td>81</td>\n",
       "      <td>90</td>\n",
       "      <td>74</td>\n",
       "      <td>148</td>\n",
       "      <td>74.0</td>\n",
       "      <td>930016</td>\n",
       "    </tr>\n",
       "    <tr>\n",
       "      <th>39</th>\n",
       "      <td>40</td>\n",
       "      <td>Male</td>\n",
       "      <td>89</td>\n",
       "      <td>91</td>\n",
       "      <td>89</td>\n",
       "      <td>179</td>\n",
       "      <td>75.5</td>\n",
       "      <td>935863</td>\n",
       "    </tr>\n",
       "  </tbody>\n",
       "</table>\n",
       "</div>"
      ],
      "text/plain": [
       "    Unnamed: 0  Gender  FSIQ  VIQ  PIQ Weight Height  MRI_Count\n",
       "0            1  Female   133  132  124    118   64.5     816932\n",
       "1            2    Male   140  150  124      .   72.5    1001121\n",
       "2            3    Male   139  123  150    143   73.3    1038437\n",
       "3            4    Male   133  129  128    172   68.8     965353\n",
       "4            5  Female   137  132  134    147   65.0     951545\n",
       "5            6  Female    99   90  110    146   69.0     928799\n",
       "6            7  Female   138  136  131    138   64.5     991305\n",
       "7            8  Female    92   90   98    175   66.0     854258\n",
       "8            9    Male    89   93   84    134   66.3     904858\n",
       "9           10    Male   133  114  147    172   68.8     955466\n",
       "10          11  Female   132  129  124    118   64.5     833868\n",
       "11          12    Male   141  150  128    151   70.0    1079549\n",
       "12          13    Male   135  129  124    155   69.0     924059\n",
       "13          14  Female   140  120  147    155   70.5     856472\n",
       "14          15  Female    96  100   90    146   66.0     878897\n",
       "15          16  Female    83   71   96    135   68.0     865363\n",
       "16          17  Female   132  132  120    127   68.5     852244\n",
       "17          18    Male   100   96  102    178   73.5     945088\n",
       "18          19  Female   101  112   84    136   66.3     808020\n",
       "19          20    Male    80   77   86    180   70.0     889083\n",
       "20          21    Male    83   83   86      .      .     892420\n",
       "21          22    Male    97  107   84    186   76.5     905940\n",
       "22          23  Female   135  129  134    122   62.0     790619\n",
       "23          24    Male   139  145  128    132   68.0     955003\n",
       "24          25  Female    91   86  102    114   63.0     831772\n",
       "25          26    Male   141  145  131    171   72.0     935494\n",
       "26          27  Female    85   90   84    140   68.0     798612\n",
       "27          28    Male   103   96  110    187   77.0    1062462\n",
       "28          29  Female    77   83   72    106   63.0     793549\n",
       "29          30  Female   130  126  124    159   66.5     866662\n",
       "30          31  Female   133  126  132    127   62.5     857782\n",
       "31          32    Male   144  145  137    191   67.0     949589\n",
       "32          33    Male   103   96  110    192   75.5     997925\n",
       "33          34    Male    90   96   86    181   69.0     879987\n",
       "34          35  Female    83   90   81    143   66.5     834344\n",
       "35          36  Female   133  129  128    153   66.5     948066\n",
       "36          37    Male   140  150  124    144   70.5     949395\n",
       "37          38  Female    88   86   94    139   64.5     893983\n",
       "38          39    Male    81   90   74    148   74.0     930016\n",
       "39          40    Male    89   91   89    179   75.5     935863"
      ]
     },
     "execution_count": 125,
     "metadata": {},
     "output_type": "execute_result"
    }
   ],
   "source": [
    "pd.read_csv('data/brain_size.csv',delimiter=';')"
   ]
  },
  {
   "cell_type": "code",
   "execution_count": 127,
   "metadata": {
    "collapsed": false,
    "scrolled": false
   },
   "outputs": [
    {
     "data": {
      "text/html": [
       "<div>\n",
       "<table border=\"1\" class=\"dataframe\">\n",
       "  <thead>\n",
       "    <tr style=\"text-align: right;\">\n",
       "      <th></th>\n",
       "      <th>Subjects</th>\n",
       "      <th>age</th>\n",
       "      <th>Education (numb of years)</th>\n",
       "      <th>Digit-Span</th>\n",
       "      <th>Digit_backward</th>\n",
       "      <th>Alldigit</th>\n",
       "      <th>Gender</th>\n",
       "      <th>CAPE_score(Positive)</th>\n",
       "      <th>Hand</th>\n",
       "    </tr>\n",
       "  </thead>\n",
       "  <tbody>\n",
       "    <tr>\n",
       "      <th>0</th>\n",
       "      <td>Sub1</td>\n",
       "      <td>23</td>\n",
       "      <td>16</td>\n",
       "      <td>11</td>\n",
       "      <td>6</td>\n",
       "      <td>17/96</td>\n",
       "      <td>M</td>\n",
       "      <td>2.2(44)/1,2/1</td>\n",
       "      <td>R</td>\n",
       "    </tr>\n",
       "    <tr>\n",
       "      <th>1</th>\n",
       "      <td>Sub2</td>\n",
       "      <td>31</td>\n",
       "      <td>18</td>\n",
       "      <td>11</td>\n",
       "      <td>8</td>\n",
       "      <td>19/106</td>\n",
       "      <td>M</td>\n",
       "      <td>2,25(45)/1,2/1,05</td>\n",
       "      <td>R</td>\n",
       "    </tr>\n",
       "    <tr>\n",
       "      <th>2</th>\n",
       "      <td>Sub3</td>\n",
       "      <td>25</td>\n",
       "      <td>16</td>\n",
       "      <td>6</td>\n",
       "      <td>7</td>\n",
       "      <td>13/</td>\n",
       "      <td>F</td>\n",
       "      <td>2,2(44)/1,15/1,05</td>\n",
       "      <td>R</td>\n",
       "    </tr>\n",
       "    <tr>\n",
       "      <th>3</th>\n",
       "      <td>Sub4</td>\n",
       "      <td>23</td>\n",
       "      <td>13</td>\n",
       "      <td>9</td>\n",
       "      <td>13</td>\n",
       "      <td>22/</td>\n",
       "      <td>M</td>\n",
       "      <td>2,2(44)/1,2/1</td>\n",
       "      <td>R</td>\n",
       "    </tr>\n",
       "    <tr>\n",
       "      <th>4</th>\n",
       "      <td>Sub5</td>\n",
       "      <td>23</td>\n",
       "      <td>16</td>\n",
       "      <td>12</td>\n",
       "      <td>11</td>\n",
       "      <td>23/</td>\n",
       "      <td>F</td>\n",
       "      <td>2,2(44)/1,1/1,1</td>\n",
       "      <td>R</td>\n",
       "    </tr>\n",
       "    <tr>\n",
       "      <th>5</th>\n",
       "      <td>Sub6</td>\n",
       "      <td>31</td>\n",
       "      <td>13</td>\n",
       "      <td>10</td>\n",
       "      <td>6</td>\n",
       "      <td>16/93</td>\n",
       "      <td>F</td>\n",
       "      <td>2,35(47)/1,25/1,1</td>\n",
       "      <td>R</td>\n",
       "    </tr>\n",
       "    <tr>\n",
       "      <th>6</th>\n",
       "      <td>Sub7</td>\n",
       "      <td>22</td>\n",
       "      <td>13</td>\n",
       "      <td>12</td>\n",
       "      <td>7</td>\n",
       "      <td>19/106</td>\n",
       "      <td>F</td>\n",
       "      <td>2,25(45)/1,2/1,05</td>\n",
       "      <td>R</td>\n",
       "    </tr>\n",
       "  </tbody>\n",
       "</table>\n",
       "</div>"
      ],
      "text/plain": [
       "  Subjects  age  Education (numb of years)  Digit-Span  Digit_backward  \\\n",
       "0     Sub1   23                         16          11               6   \n",
       "1     Sub2   31                         18          11               8   \n",
       "2     Sub3   25                         16           6               7   \n",
       "3     Sub4   23                         13           9              13   \n",
       "4     Sub5   23                         16          12              11   \n",
       "5     Sub6   31                         13          10               6   \n",
       "6     Sub7   22                         13          12               7   \n",
       "\n",
       "  Alldigit Gender CAPE_score(Positive) Hand  \n",
       "0    17/96      M        2.2(44)/1,2/1    R  \n",
       "1   19/106      M    2,25(45)/1,2/1,05    R  \n",
       "2      13/      F    2,2(44)/1,15/1,05    R  \n",
       "3      22/      M        2,2(44)/1,2/1    R  \n",
       "4      23/      F      2,2(44)/1,1/1,1    R  \n",
       "5    16/93      F    2,35(47)/1,25/1,1    R  \n",
       "6   19/106      F    2,25(45)/1,2/1,05    R  "
      ]
     },
     "execution_count": 127,
     "metadata": {},
     "output_type": "execute_result"
    }
   ],
   "source": [
    "pd.read_excel('data/Ale_subj_info.xlsx')"
   ]
  },
  {
   "cell_type": "code",
   "execution_count": 183,
   "metadata": {
    "collapsed": false
   },
   "outputs": [],
   "source": [
    "f = open('data/text.txt', 'r')"
   ]
  },
  {
   "cell_type": "code",
   "execution_count": 184,
   "metadata": {
    "collapsed": false
   },
   "outputs": [],
   "source": [
    "string = f.read()"
   ]
  },
  {
   "cell_type": "code",
   "execution_count": 185,
   "metadata": {
    "collapsed": false
   },
   "outputs": [
    {
     "data": {
      "text/plain": [
       "0                This\n",
       "1                  is\n",
       "2                   a\n",
       "3          repository\n",
       "4                 for\n",
       "5               short\n",
       "6                 and\n",
       "7               sweet\n",
       "8            examples\n",
       "9                 and\n",
       "10              links\n",
       "11                for\n",
       "12             useful\n",
       "13             pandas\n",
       "14           recipes.\n",
       "15                 We\n",
       "16          encourage\n",
       "17              users\n",
       "18                 to\n",
       "19                add\n",
       "20                 to\n",
       "21               this\n",
       "22     documentation.\n",
       "23             Adding\n",
       "24        interesting\n",
       "25              links\n",
       "26             and/or\n",
       "27             inline\n",
       "28           examples\n",
       "29                 to\n",
       "            ...      \n",
       "76               only\n",
       "77                two\n",
       "78        abbreviated\n",
       "79           imported\n",
       "80           modules.\n",
       "81                The\n",
       "82               rest\n",
       "83                are\n",
       "84               kept\n",
       "85         explicitly\n",
       "86           imported\n",
       "87                for\n",
       "88              newer\n",
       "89             users.\n",
       "90              These\n",
       "91           examples\n",
       "92                are\n",
       "93            written\n",
       "94                for\n",
       "95             python\n",
       "96               3.4.\n",
       "97              Minor\n",
       "98             tweaks\n",
       "99              might\n",
       "100                be\n",
       "101         necessary\n",
       "102               for\n",
       "103           earlier\n",
       "104            python\n",
       "105         versions.\n",
       "dtype: object"
      ]
     },
     "execution_count": 185,
     "metadata": {},
     "output_type": "execute_result"
    }
   ],
   "source": [
    "s = pd.Series(string.split())\n",
    "s"
   ]
  },
  {
   "cell_type": "code",
   "execution_count": 161,
   "metadata": {
    "collapsed": true
   },
   "outputs": [],
   "source": [
    "a = 'HEllOw.'"
   ]
  },
  {
   "cell_type": "code",
   "execution_count": 162,
   "metadata": {
    "collapsed": false
   },
   "outputs": [
    {
     "data": {
      "text/plain": [
       "'hellow.'"
      ]
     },
     "execution_count": 162,
     "metadata": {},
     "output_type": "execute_result"
    }
   ],
   "source": [
    "a.lower()"
   ]
  },
  {
   "cell_type": "code",
   "execution_count": 163,
   "metadata": {
    "collapsed": false
   },
   "outputs": [
    {
     "data": {
      "text/plain": [
       "'HEllOw'"
      ]
     },
     "execution_count": 163,
     "metadata": {},
     "output_type": "execute_result"
    }
   ],
   "source": [
    "a.strip('.')"
   ]
  },
  {
   "cell_type": "code",
   "execution_count": 188,
   "metadata": {
    "collapsed": false
   },
   "outputs": [
    {
     "data": {
      "text/plain": [
       "0          this\n",
       "1            is\n",
       "2             a\n",
       "3    repository\n",
       "4           for\n",
       "dtype: object"
      ]
     },
     "execution_count": 188,
     "metadata": {},
     "output_type": "execute_result"
    }
   ],
   "source": [
    "s = s.str.lower()\n",
    "s.head()"
   ]
  },
  {
   "cell_type": "code",
   "execution_count": 189,
   "metadata": {
    "collapsed": false
   },
   "outputs": [
    {
     "data": {
      "text/plain": [
       "0          this\n",
       "1            is\n",
       "2             a\n",
       "3    repository\n",
       "4           for\n",
       "dtype: object"
      ]
     },
     "execution_count": 189,
     "metadata": {},
     "output_type": "execute_result"
    }
   ],
   "source": [
    "s = s.str.replace('.','')\n",
    "s.head()"
   ]
  },
  {
   "cell_type": "code",
   "execution_count": 190,
   "metadata": {
    "collapsed": false,
    "scrolled": false
   },
   "outputs": [
    {
     "data": {
      "text/plain": [
       "0               this\n",
       "1                 is\n",
       "2                  a\n",
       "3         repository\n",
       "4                for\n",
       "5              short\n",
       "6                and\n",
       "7              sweet\n",
       "8           examples\n",
       "9                and\n",
       "10             links\n",
       "11               for\n",
       "12            useful\n",
       "13            pandas\n",
       "14           recipes\n",
       "15                we\n",
       "16         encourage\n",
       "17             users\n",
       "18                to\n",
       "19               add\n",
       "20                to\n",
       "21              this\n",
       "22     documentation\n",
       "23            adding\n",
       "24       interesting\n",
       "25             links\n",
       "26            and/or\n",
       "27            inline\n",
       "28          examples\n",
       "29                to\n",
       "           ...      \n",
       "76              only\n",
       "77               two\n",
       "78       abbreviated\n",
       "79          imported\n",
       "80           modules\n",
       "81               the\n",
       "82              rest\n",
       "83               are\n",
       "84              kept\n",
       "85        explicitly\n",
       "86          imported\n",
       "87               for\n",
       "88             newer\n",
       "89             users\n",
       "90             these\n",
       "91          examples\n",
       "92               are\n",
       "93           written\n",
       "94               for\n",
       "95            python\n",
       "96                34\n",
       "97             minor\n",
       "98            tweaks\n",
       "99             might\n",
       "100               be\n",
       "101        necessary\n",
       "102              for\n",
       "103          earlier\n",
       "104           python\n",
       "105         versions\n",
       "dtype: object"
      ]
     },
     "execution_count": 190,
     "metadata": {},
     "output_type": "execute_result"
    }
   ],
   "source": [
    "s"
   ]
  }
 ],
 "metadata": {
  "kernelspec": {
   "display_name": "Python 3.6",
   "language": "python",
   "name": "py36"
  },
  "language_info": {
   "codemirror_mode": {
    "name": "ipython",
    "version": 3
   },
   "file_extension": ".py",
   "mimetype": "text/x-python",
   "name": "python",
   "nbconvert_exporter": "python",
   "pygments_lexer": "ipython3",
   "version": "3.6.1"
  }
 },
 "nbformat": 4,
 "nbformat_minor": 0
}
