{
 "cells": [
  {
   "cell_type": "markdown",
   "metadata": {},
   "source": [
    "<img src=\"http://www.contribute.geeksforgeeks.org/wp-content/uploads/numpy-logo1.jpg\" align=\"left\" alt=\"Drawing\" style=\"width: 80px;\"/>\n",
    "# NumPy \n",
    " Numerical Python"
   ]
  },
  {
   "cell_type": "markdown",
   "metadata": {},
   "source": [
    "Arrays\n",
    "- all elements have same data type\n",
    "- occupy continuous segment of memory (as opposed to lists, which are just pointers to different objects in various part of memory)\n",
    "- constant access time (if you have a very large `list`, getting elements from it will be progressively more slow; not the case with arrays: they are always fast)\n",
    "- but insertion of elements or appending is inefficient -- hence always preallocate, if you can"
   ]
  },
  {
   "cell_type": "code",
   "execution_count": 1,
   "metadata": {
    "collapsed": true
   },
   "outputs": [],
   "source": [
    "import numpy as np"
   ]
  },
  {
   "cell_type": "code",
   "execution_count": 2,
   "metadata": {
    "collapsed": false
   },
   "outputs": [
    {
     "name": "stdout",
     "output_type": "stream",
     "text": [
      "[1 2 3]\n"
     ]
    }
   ],
   "source": [
    "x = np.array([1,2,3])\n",
    "print(x)"
   ]
  },
  {
   "cell_type": "code",
   "execution_count": 3,
   "metadata": {
    "collapsed": false
   },
   "outputs": [
    {
     "name": "stdout",
     "output_type": "stream",
     "text": [
      "[ 0.  0.  0.]\n"
     ]
    }
   ],
   "source": [
    "x = np.zeros(3)\n",
    "print(x)"
   ]
  },
  {
   "cell_type": "code",
   "execution_count": 5,
   "metadata": {
    "collapsed": false
   },
   "outputs": [
    {
     "name": "stdout",
     "output_type": "stream",
     "text": [
      "[0 0 0 0 0 0 0 0 0 0]\n",
      "ndim:  1\n",
      "shape: (10,)\n",
      "size:  10\n",
      "dtype: int32\n"
     ]
    }
   ],
   "source": [
    "x = np.zeros(10, dtype='int')\n",
    "print(x)\n",
    "print(\"ndim: \", x.ndim)\n",
    "print(\"shape:\", x.shape)\n",
    "print(\"size: \", x.size)\n",
    "print(\"dtype:\", x.dtype)"
   ]
  },
  {
   "cell_type": "code",
   "execution_count": 6,
   "metadata": {
    "collapsed": false
   },
   "outputs": [
    {
     "data": {
      "text/plain": [
       "array([ 0,  1,  2,  3,  4,  5,  6,  7,  8,  9, 10, 11, 12, 13, 14, 15, 16,\n",
       "       17, 18, 19])"
      ]
     },
     "execution_count": 6,
     "metadata": {},
     "output_type": "execute_result"
    }
   ],
   "source": [
    "x = np.arange(20)\n",
    "x"
   ]
  },
  {
   "cell_type": "code",
   "execution_count": 9,
   "metadata": {
    "collapsed": false
   },
   "outputs": [
    {
     "data": {
      "text/plain": [
       "array([10, 11, 12, 13, 14, 15, 16, 17, 18, 19, 20, 21, 22, 23, 24, 25, 26,\n",
       "       27, 28, 29])"
      ]
     },
     "execution_count": 9,
     "metadata": {},
     "output_type": "execute_result"
    }
   ],
   "source": [
    "x = np.arange(10,30)\n",
    "x"
   ]
  },
  {
   "cell_type": "code",
   "execution_count": 10,
   "metadata": {
    "collapsed": false
   },
   "outputs": [
    {
     "data": {
      "text/plain": [
       "15"
      ]
     },
     "execution_count": 10,
     "metadata": {},
     "output_type": "execute_result"
    }
   ],
   "source": [
    "x[5]"
   ]
  },
  {
   "cell_type": "code",
   "execution_count": 11,
   "metadata": {
    "collapsed": false
   },
   "outputs": [
    {
     "data": {
      "text/plain": [
       "13"
      ]
     },
     "execution_count": 11,
     "metadata": {},
     "output_type": "execute_result"
    }
   ],
   "source": [
    "x[3]"
   ]
  },
  {
   "cell_type": "code",
   "execution_count": 12,
   "metadata": {
    "collapsed": false
   },
   "outputs": [
    {
     "data": {
      "text/plain": [
       "10"
      ]
     },
     "execution_count": 12,
     "metadata": {},
     "output_type": "execute_result"
    }
   ],
   "source": [
    "# in Python indexing starts with 0\n",
    "x[0]"
   ]
  },
  {
   "cell_type": "code",
   "execution_count": 13,
   "metadata": {
    "collapsed": false
   },
   "outputs": [
    {
     "data": {
      "text/plain": [
       "29"
      ]
     },
     "execution_count": 13,
     "metadata": {},
     "output_type": "execute_result"
    }
   ],
   "source": [
    "# indexing from the end\n",
    "x[-1]"
   ]
  },
  {
   "cell_type": "code",
   "execution_count": 14,
   "metadata": {
    "collapsed": false
   },
   "outputs": [
    {
     "data": {
      "text/plain": [
       "25"
      ]
     },
     "execution_count": 14,
     "metadata": {},
     "output_type": "execute_result"
    }
   ],
   "source": [
    "x[-5]"
   ]
  },
  {
   "cell_type": "code",
   "execution_count": 21,
   "metadata": {
    "collapsed": false
   },
   "outputs": [
    {
     "data": {
      "text/plain": [
       "array([[6, 2, 8, 9, 0],\n",
       "       [4, 8, 8, 4, 1],\n",
       "       [7, 9, 5, 5, 3]])"
      ]
     },
     "execution_count": 21,
     "metadata": {},
     "output_type": "execute_result"
    }
   ],
   "source": [
    "# multidimesional indexing\n",
    "x2 = np.random.randint(10,size=(3,5))\n",
    "x2"
   ]
  },
  {
   "cell_type": "code",
   "execution_count": 22,
   "metadata": {
    "collapsed": false
   },
   "outputs": [
    {
     "data": {
      "text/plain": [
       "1"
      ]
     },
     "execution_count": 22,
     "metadata": {},
     "output_type": "execute_result"
    }
   ],
   "source": [
    "x2[1,4]"
   ]
  },
  {
   "cell_type": "code",
   "execution_count": 23,
   "metadata": {
    "collapsed": false
   },
   "outputs": [
    {
     "data": {
      "text/plain": [
       "1"
      ]
     },
     "execution_count": 23,
     "metadata": {},
     "output_type": "execute_result"
    }
   ],
   "source": [
    "x2[1,-1]"
   ]
  },
  {
   "cell_type": "code",
   "execution_count": 24,
   "metadata": {
    "collapsed": false
   },
   "outputs": [
    {
     "data": {
      "text/plain": [
       "array([[[0, 3, 0, 2, 1, 0, 9],\n",
       "        [4, 9, 9, 8, 8, 2, 5],\n",
       "        [3, 4, 6, 1, 9, 1, 1],\n",
       "        [2, 0, 5, 4, 7, 2, 6],\n",
       "        [5, 9, 8, 3, 1, 4, 5]],\n",
       "\n",
       "       [[0, 2, 7, 8, 6, 5, 5],\n",
       "        [8, 0, 8, 1, 4, 5, 9],\n",
       "        [7, 9, 2, 7, 6, 8, 8],\n",
       "        [0, 4, 2, 3, 1, 6, 5],\n",
       "        [5, 4, 3, 7, 8, 6, 6]],\n",
       "\n",
       "       [[5, 8, 9, 8, 5, 0, 7],\n",
       "        [5, 8, 4, 0, 7, 6, 8],\n",
       "        [8, 1, 3, 7, 0, 9, 0],\n",
       "        [8, 3, 5, 7, 0, 2, 0],\n",
       "        [8, 7, 9, 6, 5, 6, 3]]])"
      ]
     },
     "execution_count": 24,
     "metadata": {},
     "output_type": "execute_result"
    }
   ],
   "source": [
    "x3 = np.random.randint(10,size=(3,5,7))\n",
    "x3"
   ]
  },
  {
   "cell_type": "code",
   "execution_count": 25,
   "metadata": {
    "collapsed": false
   },
   "outputs": [
    {
     "data": {
      "text/plain": [
       "1"
      ]
     },
     "execution_count": 25,
     "metadata": {},
     "output_type": "execute_result"
    }
   ],
   "source": [
    "x3[1,3,4]"
   ]
  },
  {
   "cell_type": "code",
   "execution_count": 26,
   "metadata": {
    "collapsed": false
   },
   "outputs": [
    {
     "data": {
      "text/plain": [
       "array([[6, 2, 8, 9, 0],\n",
       "       [4, 8, 8, 4, 1],\n",
       "       [7, 9, 5, 5, 3]])"
      ]
     },
     "execution_count": 26,
     "metadata": {},
     "output_type": "execute_result"
    }
   ],
   "source": [
    "x2"
   ]
  },
  {
   "cell_type": "code",
   "execution_count": 27,
   "metadata": {
    "collapsed": false
   },
   "outputs": [
    {
     "data": {
      "text/plain": [
       "array([[101,   2,   8,   9,   0],\n",
       "       [  4,   8,   8,   4,   1],\n",
       "       [  7,   9,   5,   5,   3]])"
      ]
     },
     "execution_count": 27,
     "metadata": {},
     "output_type": "execute_result"
    }
   ],
   "source": [
    "# modifying items\n",
    "x2[0,0] = 101\n",
    "x2"
   ]
  },
  {
   "cell_type": "markdown",
   "metadata": {},
   "source": [
    "Keep in mind that NumPy arrays have fixed type, and they will not \"upcast\" automatically!"
   ]
  },
  {
   "cell_type": "code",
   "execution_count": 28,
   "metadata": {
    "collapsed": false
   },
   "outputs": [
    {
     "data": {
      "text/plain": [
       "array([[3, 2, 8, 9, 0],\n",
       "       [4, 8, 8, 4, 1],\n",
       "       [7, 9, 5, 5, 3]])"
      ]
     },
     "execution_count": 28,
     "metadata": {},
     "output_type": "execute_result"
    }
   ],
   "source": [
    "x2[0,0] = 3.1415\n",
    "x2"
   ]
  },
  {
   "cell_type": "markdown",
   "metadata": {},
   "source": [
    "## Array slicing\n",
    "Using *:* within brackes we can access slices of the array with the following pattern:\n",
    "        \n",
    "    x[start:stop:step]\n",
    "    \n",
    "If any of these are unspecified, they are assumed as following: `start=0, stop=`*size of dimension*`, step=1`"
   ]
  },
  {
   "cell_type": "code",
   "execution_count": 35,
   "metadata": {
    "collapsed": false
   },
   "outputs": [
    {
     "data": {
      "text/plain": [
       "array([ 0.29321397,  0.64620599,  0.81297395,  0.38714208,  0.94854791,\n",
       "        0.94731726,  0.44091809,  0.93350442,  0.76437026,  0.23981492,\n",
       "        0.70126879,  0.82433103,  0.3051342 ,  0.04662624,  0.19796374,\n",
       "        0.16194123,  0.08374339,  0.32051101,  0.4834996 ,  0.56243106,\n",
       "        0.07155169,  0.28387709,  0.39108488,  0.35176688,  0.03825869,\n",
       "        0.49987322,  0.26915081,  0.5909597 ,  0.48866361,  0.77231087,\n",
       "        0.84282155,  0.75819683,  0.6441539 ,  0.70216505,  0.94717495,\n",
       "        0.28269038,  0.82150238,  0.23740336,  0.67533479,  0.84545469,\n",
       "        0.33172509,  0.00334157,  0.43351097,  0.51702103,  0.27719912,\n",
       "        0.72409194,  0.11893006,  0.78762225,  0.60021991,  0.1532463 ])"
      ]
     },
     "execution_count": 35,
     "metadata": {},
     "output_type": "execute_result"
    }
   ],
   "source": [
    "x = np.random.rand(50)\n",
    "x"
   ]
  },
  {
   "cell_type": "markdown",
   "metadata": {},
   "source": [
    "**Note**: don't confuse: this is not a 2 dimensional array, it is 1 dimensional, it is just displayed that way for convenience. This is what a 2 dimensional array of the same size would look like, note that each line has its own brakets (it is basically array of arrays):"
   ]
  },
  {
   "cell_type": "code",
   "execution_count": 37,
   "metadata": {
    "collapsed": false
   },
   "outputs": [
    {
     "data": {
      "text/plain": [
       "array([[ 0.86576998,  0.53425312,  0.23133677,  0.13195801,  0.98185796],\n",
       "       [ 0.60188193,  0.61929176,  0.76995121,  0.9666304 ,  0.17754879],\n",
       "       [ 0.52340889,  0.19142667,  0.54531866,  0.84033475,  0.52400748],\n",
       "       [ 0.66486732,  0.24953655,  0.7812089 ,  0.16308436,  0.65610586],\n",
       "       [ 0.15279213,  0.93430499,  0.48696475,  0.8661386 ,  0.00432703],\n",
       "       [ 0.34346393,  0.17684623,  0.26061919,  0.59420374,  0.61735461],\n",
       "       [ 0.90334767,  0.17588474,  0.62023914,  0.04278716,  0.20944617],\n",
       "       [ 0.49858368,  0.04903326,  0.88833496,  0.64771028,  0.07340003],\n",
       "       [ 0.26422479,  0.97501566,  0.53971943,  0.29902486,  0.53515982],\n",
       "       [ 0.32080885,  0.43276821,  0.5309956 ,  0.45565513,  0.53532185]])"
      ]
     },
     "execution_count": 37,
     "metadata": {},
     "output_type": "execute_result"
    }
   ],
   "source": [
    "np.random.rand(10,5)"
   ]
  },
  {
   "cell_type": "code",
   "execution_count": 38,
   "metadata": {
    "collapsed": false
   },
   "outputs": [
    {
     "data": {
      "text/plain": [
       "array([ 0.56521065,  0.7490577 ,  0.56090977,  0.24330419,  0.91901016,\n",
       "        0.47649473,  0.70010838,  0.91975602,  0.01264104,  0.00718346,\n",
       "        0.21153331,  0.55812251,  0.9060424 ,  0.13196302,  0.96441105,\n",
       "        0.3779054 ,  0.78419461,  0.67951171,  0.99086808,  0.76915495,\n",
       "        0.11953132,  0.11429784,  0.81736927,  0.89809105,  0.34834365,\n",
       "        0.56853237,  0.30090528,  0.84773626,  0.95580238,  0.34881011,\n",
       "        0.9746324 ,  0.61583875,  0.22735463,  0.91629119,  0.34711097,\n",
       "        0.10889407,  0.19309785,  0.58833867,  0.24784295,  0.85030467,\n",
       "        0.87833185,  0.72782677,  0.05862603,  0.06383694,  0.21594808,\n",
       "        0.01794569,  0.56641526,  0.27368431,  0.00785444,  0.00489954])"
      ]
     },
     "execution_count": 38,
     "metadata": {},
     "output_type": "execute_result"
    }
   ],
   "source": [
    "x = np.random.rand(50)\n",
    "x"
   ]
  },
  {
   "cell_type": "code",
   "execution_count": 39,
   "metadata": {
    "collapsed": false
   },
   "outputs": [
    {
     "data": {
      "text/plain": [
       "array([ 0.56521065,  0.7490577 ,  0.56090977,  0.24330419,  0.91901016])"
      ]
     },
     "execution_count": 39,
     "metadata": {},
     "output_type": "execute_result"
    }
   ],
   "source": [
    "# first 5 elements\n",
    "x[:5]"
   ]
  },
  {
   "cell_type": "code",
   "execution_count": 40,
   "metadata": {
    "collapsed": false
   },
   "outputs": [
    {
     "data": {
      "text/plain": [
       "array([ 0.91901016,  0.47649473,  0.70010838,  0.91975602,  0.01264104,\n",
       "        0.00718346])"
      ]
     },
     "execution_count": 40,
     "metadata": {},
     "output_type": "execute_result"
    }
   ],
   "source": [
    "# from 5th to 10th element\n",
    "x[4:10]"
   ]
  },
  {
   "cell_type": "code",
   "execution_count": 41,
   "metadata": {
    "collapsed": false
   },
   "outputs": [
    {
     "data": {
      "text/plain": [
       "array([ 0.21153331,  0.55812251,  0.9060424 ,  0.13196302,  0.96441105,\n",
       "        0.3779054 ,  0.78419461,  0.67951171,  0.99086808,  0.76915495,\n",
       "        0.11953132,  0.11429784,  0.81736927,  0.89809105,  0.34834365,\n",
       "        0.56853237,  0.30090528,  0.84773626,  0.95580238,  0.34881011,\n",
       "        0.9746324 ,  0.61583875,  0.22735463,  0.91629119,  0.34711097,\n",
       "        0.10889407,  0.19309785,  0.58833867,  0.24784295,  0.85030467,\n",
       "        0.87833185,  0.72782677,  0.05862603,  0.06383694,  0.21594808,\n",
       "        0.01794569,  0.56641526,  0.27368431,  0.00785444,  0.00489954])"
      ]
     },
     "execution_count": 41,
     "metadata": {},
     "output_type": "execute_result"
    }
   ],
   "source": [
    "# from 11th element until the end\n",
    "x[10:]"
   ]
  },
  {
   "cell_type": "code",
   "execution_count": 42,
   "metadata": {
    "collapsed": false
   },
   "outputs": [
    {
     "data": {
      "text/plain": [
       "array([ 0.56521065,  0.56090977,  0.91901016,  0.70010838,  0.01264104,\n",
       "        0.21153331,  0.9060424 ,  0.96441105,  0.78419461,  0.99086808,\n",
       "        0.11953132,  0.81736927,  0.34834365,  0.30090528,  0.95580238,\n",
       "        0.9746324 ,  0.22735463,  0.34711097,  0.19309785,  0.24784295,\n",
       "        0.87833185,  0.05862603,  0.21594808,  0.56641526,  0.00785444])"
      ]
     },
     "execution_count": 42,
     "metadata": {},
     "output_type": "execute_result"
    }
   ],
   "source": [
    "# every second element\n",
    "x[::2]"
   ]
  },
  {
   "cell_type": "code",
   "execution_count": 43,
   "metadata": {
    "collapsed": false
   },
   "outputs": [
    {
     "data": {
      "text/plain": [
       "array([ 0.56521065,  0.24330419,  0.70010838,  0.00718346,  0.9060424 ,\n",
       "        0.3779054 ,  0.99086808,  0.11429784,  0.34834365,  0.84773626,\n",
       "        0.9746324 ,  0.91629119,  0.19309785,  0.85030467,  0.05862603,\n",
       "        0.01794569,  0.00785444])"
      ]
     },
     "execution_count": 43,
     "metadata": {},
     "output_type": "execute_result"
    }
   ],
   "source": [
    "# every third element\n",
    "x[::3]"
   ]
  },
  {
   "cell_type": "code",
   "execution_count": 44,
   "metadata": {
    "collapsed": false
   },
   "outputs": [
    {
     "name": "stdout",
     "output_type": "stream",
     "text": [
      "[0 1 2 3 4 5 6 7 8 9]\n",
      "[9 8 7 6 5 4 3 2 1 0]\n"
     ]
    }
   ],
   "source": [
    "# reversed array\n",
    "x = np.arange(10)\n",
    "print(x)\n",
    "print(x[::-1])"
   ]
  },
  {
   "cell_type": "code",
   "execution_count": 47,
   "metadata": {
    "collapsed": false
   },
   "outputs": [
    {
     "data": {
      "text/plain": [
       "array([[3, 2, 8, 9, 0],\n",
       "       [4, 8, 8, 4, 1],\n",
       "       [7, 9, 5, 5, 3]])"
      ]
     },
     "execution_count": 47,
     "metadata": {},
     "output_type": "execute_result"
    }
   ],
   "source": [
    "x2"
   ]
  },
  {
   "cell_type": "code",
   "execution_count": 49,
   "metadata": {
    "collapsed": false,
    "scrolled": true
   },
   "outputs": [
    {
     "data": {
      "text/plain": [
       "array([8, 8, 5])"
      ]
     },
     "execution_count": 49,
     "metadata": {},
     "output_type": "execute_result"
    }
   ],
   "source": [
    "# access third column\n",
    "x2[:,2]"
   ]
  },
  {
   "cell_type": "markdown",
   "metadata": {},
   "source": [
    "# Distinction between memory views and copies\n",
    "\n",
    "When accessing the sub-arrays, it is important to keep in mind that you get a view on the array, not a copy of it! It means that by default the new array is not a separate entity, but is actually accessing the same memory as the original array. Here is a simple example:"
   ]
  },
  {
   "cell_type": "code",
   "execution_count": 50,
   "metadata": {
    "collapsed": false
   },
   "outputs": [
    {
     "data": {
      "text/plain": [
       "array([[3, 2, 8, 9, 0],\n",
       "       [4, 8, 8, 4, 1],\n",
       "       [7, 9, 5, 5, 3]])"
      ]
     },
     "execution_count": 50,
     "metadata": {},
     "output_type": "execute_result"
    }
   ],
   "source": [
    "x2"
   ]
  },
  {
   "cell_type": "code",
   "execution_count": 51,
   "metadata": {
    "collapsed": false
   },
   "outputs": [
    {
     "data": {
      "text/plain": [
       "array([[3, 2],\n",
       "       [4, 8]])"
      ]
     },
     "execution_count": 51,
     "metadata": {},
     "output_type": "execute_result"
    }
   ],
   "source": [
    "# get first two elements from both dimensions\n",
    "x2_sub = x2[:2,:2]\n",
    "x2_sub"
   ]
  },
  {
   "cell_type": "code",
   "execution_count": 52,
   "metadata": {
    "collapsed": false
   },
   "outputs": [
    {
     "data": {
      "text/plain": [
       "array([[ 3,  2],\n",
       "       [ 4, 99]])"
      ]
     },
     "execution_count": 52,
     "metadata": {},
     "output_type": "execute_result"
    }
   ],
   "source": [
    "# modify an element in the new array\n",
    "x2_sub[1,1] = 99\n",
    "x2_sub"
   ]
  },
  {
   "cell_type": "code",
   "execution_count": 53,
   "metadata": {
    "collapsed": false
   },
   "outputs": [
    {
     "data": {
      "text/plain": [
       "array([[ 3,  2,  8,  9,  0],\n",
       "       [ 4, 99,  8,  4,  1],\n",
       "       [ 7,  9,  5,  5,  3]])"
      ]
     },
     "execution_count": 53,
     "metadata": {},
     "output_type": "execute_result"
    }
   ],
   "source": [
    "# see that the original array also got modified\n",
    "x2"
   ]
  },
  {
   "cell_type": "markdown",
   "metadata": {},
   "source": [
    "This behavior is very useful for working with datasets, because it saves you a lot of memory. If you need to make a copy of the array, you must do it explicitly:"
   ]
  },
  {
   "cell_type": "code",
   "execution_count": 55,
   "metadata": {
    "collapsed": true
   },
   "outputs": [],
   "source": [
    "# make a copy\n",
    "x2_sub = x2[:2,:2].copy()"
   ]
  },
  {
   "cell_type": "code",
   "execution_count": 57,
   "metadata": {
    "collapsed": false
   },
   "outputs": [
    {
     "name": "stdout",
     "output_type": "stream",
     "text": [
      "[[   3    2]\n",
      " [   4 -666]]\n",
      "\n",
      "[[ 3  2  8  9  0]\n",
      " [ 4 99  8  4  1]\n",
      " [ 7  9  5  5  3]]\n"
     ]
    }
   ],
   "source": [
    "# modify a copy and verify that the original array is intact\n",
    "x2_sub[1,1] = -666\n",
    "print(x2_sub)\n",
    "print()\n",
    "print(x2)"
   ]
  },
  {
   "cell_type": "markdown",
   "metadata": {},
   "source": [
    "# Operations on arrays\n",
    "\n",
    "We use arrays to speed up computations. The key to understand here is that when you make an operation on each element of an array or a list, each object has to be dynamically typed: during the execusion for each element Python core looks up at the type of the element (whether it is int, float, string, etc) to see which of the compiled functions to apply to the element. This is slow. Consider the following piece of code."
   ]
  },
  {
   "cell_type": "code",
   "execution_count": 59,
   "metadata": {
    "collapsed": false
   },
   "outputs": [
    {
     "name": "stdout",
     "output_type": "stream",
     "text": [
      "[1 2 3 4 5 6 7 8 9]\n"
     ]
    },
    {
     "data": {
      "text/plain": [
       "array([ 1.        ,  0.5       ,  0.33333333,  0.25      ,  0.2       ,\n",
       "        0.16666667,  0.14285714,  0.125     ,  0.11111111])"
      ]
     },
     "execution_count": 59,
     "metadata": {},
     "output_type": "execute_result"
    }
   ],
   "source": [
    "def compute_reciprocals(values):\n",
    "    # preallocate array for reciprocals\n",
    "    output = np.empty(len(values))\n",
    "    \n",
    "    # compute reciprocal of each element\n",
    "    for i in range(len(values)):\n",
    "        output[i] = 1.0 / values[i]\n",
    "    \n",
    "    return output\n",
    "\n",
    "# example use\n",
    "values = np.arange(1, 10)\n",
    "print(values)\n",
    "compute_reciprocals(values)"
   ]
  },
  {
   "cell_type": "markdown",
   "metadata": {},
   "source": [
    "Now let's see how much time it takes to run this function on an array of 1 million integers. We use `%timeit`, which will tell you the time it takes to run the function you wrote afterwards:"
   ]
  },
  {
   "cell_type": "code",
   "execution_count": 60,
   "metadata": {
    "collapsed": false
   },
   "outputs": [
    {
     "name": "stdout",
     "output_type": "stream",
     "text": [
      "1 loop, best of 3: 2.87 s per loop\n"
     ]
    }
   ],
   "source": [
    "big_array = np.random.randint(1, 100, size=1000000)\n",
    "%timeit compute_reciprocals(big_array)"
   ]
  },
  {
   "cell_type": "markdown",
   "metadata": {},
   "source": [
    "Now we do the same thing, but instead we just divide `1` over our `big_array`. `numpy` automatically assumes that we want to divide `1` by each element of the array. Moreover, it has more efficient ways of doing it for us:"
   ]
  },
  {
   "cell_type": "code",
   "execution_count": 62,
   "metadata": {
    "collapsed": false
   },
   "outputs": [
    {
     "name": "stdout",
     "output_type": "stream",
     "text": [
      "100 loops, best of 3: 6.17 ms per loop\n"
     ]
    }
   ],
   "source": [
    "%timeit (1/big_array)"
   ]
  },
  {
   "cell_type": "markdown",
   "metadata": {},
   "source": [
    "Results will wary based on the current state of your computer, but here is what I got: for `compute_reciprocals` function I got `2.87 s`, for `(1/big_array)` I got `6.17 ms`. This is almost 500 fold difference in run time! Imagine that you had a script using `numpy` which ran for 10 seconds. If you had written it in a wrong way using loops, it would take almost 1.5 hours to run!\n",
    "\n",
    ">**Pro-tip**: although we used `/` to divide `1/big_array`, this `/` is actually a shortcut for a function `np.divide':"
   ]
  },
  {
   "cell_type": "code",
   "execution_count": 65,
   "metadata": {
    "collapsed": false
   },
   "outputs": [
    {
     "data": {
      "text/plain": [
       "array([ 0.02222222,  0.02222222,  0.0212766 , ...,  0.01075269,\n",
       "        0.01265823,  0.14285714])"
      ]
     },
     "execution_count": 65,
     "metadata": {},
     "output_type": "execute_result"
    }
   ],
   "source": [
    "np.divide(1,big_array)"
   ]
  },
  {
   "cell_type": "markdown",
   "metadata": {},
   "source": [
    ">All `numpy` operators have functions associated with them, here they are:\n",
    "\n",
    "| Operator\t    | Equivalent ufunc    | Description                           |\n",
    "|---------------|---------------------|---------------------------------------|\n",
    "|``+``          |``np.add``           |Addition (e.g., ``1 + 1 = 2``)         |\n",
    "|``-``          |``np.subtract``      |Subtraction (e.g., ``3 - 2 = 1``)      |\n",
    "|``-``          |``np.negative``      |Unary negation (e.g., ``-2``)          |\n",
    "|``*``          |``np.multiply``      |Multiplication (e.g., ``2 * 3 = 6``)   |\n",
    "|``/``          |``np.divide``        |Division (e.g., ``3 / 2 = 1.5``)       |\n",
    "|``//``         |``np.floor_divide``  |Floor division (e.g., ``3 // 2 = 1``)  |\n",
    "|``**``         |``np.power``         |Exponentiation (e.g., ``2 ** 3 = 8``)  |\n",
    "|``%``          |``np.mod``           |Modulus/remainder (e.g., ``9 % 4 = 1``)|\n",
    "\n",
    "> Why would you want to use the full function notation instead of using an operator? There are some curcumstances when using full notation will give you more flexibility. If you do a lot of crunching on very large numerical datasets and experience problems with speed and/or memory, certainly take a look at the [NumPy](http://www.numpy.org)(especially at the [ufunc](https://docs.scipy.org/doc/numpy-1.10.0/reference/ufuncs.html) section) and [SciPy](http://www.scipy.org) documentation."
   ]
  },
  {
   "cell_type": "markdown",
   "metadata": {},
   "source": [
    "# Aggregator functions\n",
    "\n",
    "Functions which reduce an array (or a dimension of an array) to a single value are called aggregator functions. Some of the most useful include `sum`, `min`, `max`, `mean`, `median`, `std`, etc. Python have in-build versions of some of these functions, but NumPy versions are much faster and you should be always using them:"
   ]
  },
  {
   "cell_type": "code",
   "execution_count": 66,
   "metadata": {
    "collapsed": false
   },
   "outputs": [
    {
     "name": "stdout",
     "output_type": "stream",
     "text": [
      "10 loops, best of 3: 157 ms per loop\n",
      "1000 loops, best of 3: 949 µs per loop\n"
     ]
    }
   ],
   "source": [
    "big_array = np.random.rand(1000000)\n",
    "%timeit sum(big_array)\n",
    "%timeit np.sum(big_array)"
   ]
  },
  {
   "cell_type": "markdown",
   "metadata": {},
   "source": [
    "Most of the aggregator function include a sister-function with `nan` prefix, which does the same, but ignores `NaN` (stands for *Not a Number*) elements. `NaN` is usually used as a placeholder for missing data, so these functions are very useful for working with data. We will revisit this in the future lesson.\n",
    "\n",
    "The following table provides a list of useful aggregation functions available in NumPy:\n",
    "\n",
    "|Function name      |   NaN-ignoring version  | Description                                   |\n",
    "|-------------------|---------------------|-----------------------------------------------|\n",
    "| ``np.sum``        | ``np.nansum``       | Compute sum of elements                       |\n",
    "| ``np.prod``       | ``np.nanprod``      | Compute product of elements                   |\n",
    "| ``np.mean``       | ``np.nanmean``      | Compute median of elements                    |\n",
    "| ``np.std``        | ``np.nanstd``       | Compute standard deviation                    |\n",
    "| ``np.var``        | ``np.nanvar``       | Compute variance                              |\n",
    "| ``np.min``        | ``np.nanmin``       | Find minimum value                            |\n",
    "| ``np.max``        | ``np.nanmax``       | Find maximum value                            |\n",
    "| ``np.argmin``     | ``np.nanargmin``    | Find index of minimum value                   |\n",
    "| ``np.argmax``     | ``np.nanargmax``    | Find index of maximum value                   |\n",
    "| ``np.median``     | ``np.nanmedian``    | Compute median of elements                    |\n",
    "| ``np.percentile`` | ``np.nanpercentile``| Compute rank-based statistics of elements     |\n",
    "| ``np.any``        | N/A                 | Evaluate whether any elements are True        |\n",
    "| ``np.all``        | N/A                 | Evaluate whether all elements are True        |\n",
    "\n",
    "We won't discuss each in detail, but feel free to try them for youself."
   ]
  },
  {
   "cell_type": "markdown",
   "metadata": {},
   "source": [
    "Just to mention 2 things about aggregates. \n",
    "\n",
    "**First**, some of them (`sum`, `min`, `max` and some others) can be accessed via method notation, like so:"
   ]
  },
  {
   "cell_type": "code",
   "execution_count": 67,
   "metadata": {
    "collapsed": false
   },
   "outputs": [
    {
     "name": "stdout",
     "output_type": "stream",
     "text": [
      "Min: 2.08059462026e-06\n",
      "Max: 0.99999898494\n",
      "Sum: 499962.810488\n"
     ]
    }
   ],
   "source": [
    "# print min, max and sum of the array\n",
    "print('Min:', big_array.min())\n",
    "print('Max:', big_array.max())\n",
    "print('Sum:', big_array.sum())"
   ]
  },
  {
   "cell_type": "markdown",
   "metadata": {},
   "source": [
    "And **second**, for multidimensional arrays, you can specify `axis` parameter to make aggregation only over a specific axis. By default, they will aggregate over all the array:"
   ]
  },
  {
   "cell_type": "code",
   "execution_count": 68,
   "metadata": {
    "collapsed": false
   },
   "outputs": [
    {
     "data": {
      "text/plain": [
       "array([[92, 47, 97, 77, 27, 21, 99, 43, 80, 71],\n",
       "       [10, 31,  1, 30, 96, 93, 73, 33, 92, 32],\n",
       "       [44, 18, 49,  9, 91, 71, 39, 99, 93,  8],\n",
       "       [35, 88, 66, 91, 54, 30, 17, 72,  4, 67],\n",
       "       [57, 56, 37, 55,  0, 63, 53, 59, 72, 50]])"
      ]
     },
     "execution_count": 68,
     "metadata": {},
     "output_type": "execute_result"
    }
   ],
   "source": [
    "multi_dim_array = np.random.randint(100, size=(5,10))\n",
    "multi_dim_array"
   ]
  },
  {
   "cell_type": "code",
   "execution_count": 69,
   "metadata": {
    "collapsed": false
   },
   "outputs": [
    {
     "data": {
      "text/plain": [
       "99"
      ]
     },
     "execution_count": 69,
     "metadata": {},
     "output_type": "execute_result"
    }
   ],
   "source": [
    "# default behavior gives maximum of all elements of the array \n",
    "np.max(multi_dim_array)"
   ]
  },
  {
   "cell_type": "code",
   "execution_count": 70,
   "metadata": {
    "collapsed": false
   },
   "outputs": [
    {
     "data": {
      "text/plain": [
       "array([92, 88, 97, 91, 96, 93, 99, 99, 93, 71])"
      ]
     },
     "execution_count": 70,
     "metadata": {},
     "output_type": "execute_result"
    }
   ],
   "source": [
    "# specifying axis gives you control over which dimension is aggregated;\n",
    "# in this particular case, the function will give max of every column \n",
    "np.max(multi_dim_array, axis=0)"
   ]
  },
  {
   "cell_type": "code",
   "execution_count": null,
   "metadata": {
    "collapsed": true
   },
   "outputs": [],
   "source": []
  },
  {
   "cell_type": "code",
   "execution_count": null,
   "metadata": {
    "collapsed": true
   },
   "outputs": [],
   "source": []
  },
  {
   "cell_type": "code",
   "execution_count": null,
   "metadata": {
    "collapsed": true
   },
   "outputs": [],
   "source": []
  },
  {
   "cell_type": "code",
   "execution_count": null,
   "metadata": {
    "collapsed": true
   },
   "outputs": [],
   "source": []
  },
  {
   "cell_type": "code",
   "execution_count": null,
   "metadata": {
    "collapsed": true
   },
   "outputs": [],
   "source": []
  },
  {
   "cell_type": "code",
   "execution_count": null,
   "metadata": {
    "collapsed": true
   },
   "outputs": [],
   "source": []
  },
  {
   "cell_type": "code",
   "execution_count": null,
   "metadata": {
    "collapsed": true
   },
   "outputs": [],
   "source": []
  },
  {
   "cell_type": "code",
   "execution_count": null,
   "metadata": {
    "collapsed": true
   },
   "outputs": [],
   "source": []
  },
  {
   "cell_type": "code",
   "execution_count": null,
   "metadata": {
    "collapsed": true
   },
   "outputs": [],
   "source": []
  },
  {
   "cell_type": "code",
   "execution_count": null,
   "metadata": {
    "collapsed": true
   },
   "outputs": [],
   "source": []
  },
  {
   "cell_type": "code",
   "execution_count": null,
   "metadata": {
    "collapsed": true
   },
   "outputs": [],
   "source": []
  },
  {
   "cell_type": "code",
   "execution_count": null,
   "metadata": {
    "collapsed": true
   },
   "outputs": [],
   "source": []
  },
  {
   "cell_type": "code",
   "execution_count": null,
   "metadata": {
    "collapsed": true
   },
   "outputs": [],
   "source": []
  }
 ],
 "metadata": {
  "kernelspec": {
   "display_name": "Python 3.6",
   "language": "python",
   "name": "py36"
  },
  "language_info": {
   "codemirror_mode": {
    "name": "ipython",
    "version": 3
   },
   "file_extension": ".py",
   "mimetype": "text/x-python",
   "name": "python",
   "nbconvert_exporter": "python",
   "pygments_lexer": "ipython3",
   "version": "3.6.1"
  }
 },
 "nbformat": 4,
 "nbformat_minor": 0
}
